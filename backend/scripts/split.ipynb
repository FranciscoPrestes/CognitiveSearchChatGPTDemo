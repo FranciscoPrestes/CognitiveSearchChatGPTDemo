{
 "cells": [
  {
   "cell_type": "code",
   "execution_count": 2,
   "metadata": {},
   "outputs": [],
   "source": [
    "import re\n",
    "import PyPDF2\n",
    "import pdfplumber\n",
    "import pandas as pd\n",
    "import openai\n",
    "from num2words import num2words\n",
    "import os\n",
    "import numpy as np\n",
    "from openai.embeddings_utils import get_embedding, cosine_similarity\n",
    "import time"
   ]
  },
  {
   "cell_type": "code",
   "execution_count": null,
   "metadata": {},
   "outputs": [],
   "source": [
    "input_pdf = \"D:\\\\Code\\\\CognitiveSearchGPT\\\\backend\\\\data\\\\2022_CMB_Report.pdf\"  # 请将该路径替换为实际的输入PDF路径\n",
    "output_pdf_prefix = \"D:\\\\Code\\\\CognitiveSearchGPT\\\\backend\\\\data\\\\CMB\\\\CMB_Report\"    # 输出文件的前缀"
   ]
  },
  {
   "cell_type": "code",
   "execution_count": null,
   "metadata": {},
   "outputs": [],
   "source": [
    "AZURE_OPENAI_API_KEY_SOUTH_CENTRAL_US=\n",
    "AZURE_OPENAI_BASE=\n",
    "openai.api_type = \"azure\"\n",
    "openai.api_key = AZURE_OPENAI_API_KEY_SOUTH_CENTRAL_US\n",
    "openai.api_base = AZURE_OPENAI_BASE\n",
    "openai.api_version = \"2022-12-01\""
   ]
  },
  {
   "cell_type": "code",
   "execution_count": null,
   "metadata": {},
   "outputs": [],
   "source": [
    "bboxes = []\n",
    "\n",
    "def not_within_bboxes(obj):\n",
    "    \"\"\"Check if the object is in any of the table's bbox.\"\"\"\n",
    "    def obj_in_bbox(_bbox):\n",
    "        \"\"\"See https://github.com/jsvine/pdfplumber/blob/stable/pdfplumber/table.py#L404\"\"\"\n",
    "        v_mid = (obj[\"top\"] + obj[\"bottom\"]) / 2\n",
    "        h_mid = (obj[\"x0\"] + obj[\"x1\"]) / 2\n",
    "        x0, top, x1, bottom = _bbox\n",
    "        return (h_mid >= x0) and (h_mid < x1) and (v_mid >= top) and (v_mid < bottom)\n",
    "    return not any(obj_in_bbox(__bbox) for __bbox in bboxes)"
   ]
  },
  {
   "cell_type": "code",
   "execution_count": null,
   "metadata": {},
   "outputs": [],
   "source": [
    "def curves_to_edges(cs):\n",
    "    \"\"\"See https://github.com/jsvine/pdfplumber/issues/127\"\"\"\n",
    "    edges = []\n",
    "    for c in cs:\n",
    "        edges += pdfplumber.utils.rect_to_edges(c)\n",
    "    return edges"
   ]
  },
  {
   "cell_type": "code",
   "execution_count": null,
   "metadata": {},
   "outputs": [],
   "source": [
    "def normalize_text(s, sep_token = \" \\n \"):\n",
    "    s = re.sub(r'\\s+',  ' ', s).strip()\n",
    "    s = re.sub(r\". ,\",\"\",s)\n",
    "    # remove all instances of multiple spaces\n",
    "    s = s.replace(\"..\",\".\")\n",
    "    s = s.replace(\". .\",\".\")\n",
    "    s = s.replace(\"\\n\", \"\")\n",
    "    s = s.strip()\n",
    "    \n",
    "    return s"
   ]
  },
  {
   "cell_type": "code",
   "execution_count": null,
   "metadata": {},
   "outputs": [],
   "source": [
    "with pdfplumber.open(input_pdf) as pdf:\n",
    "        total_pages = len(pdf.pages)\n",
    "\n",
    "        page_indices = []\n",
    "        sections = []\n",
    "        tables = []\n",
    "        for i, page in enumerate(pdf.pages):\n",
    "            page_text = page.extract_text()\n",
    "            ts = {\n",
    "                \"vertical_strategy\": \"explicit\",\n",
    "                \"horizontal_strategy\": \"explicit\",\n",
    "                \"explicit_vertical_lines\": curves_to_edges(page.curves + page.edges),\n",
    "                \"explicit_horizontal_lines\": curves_to_edges(page.curves + page.edges),\n",
    "                \"intersection_y_tolerance\": 10,\n",
    "            }\n",
    "            global bboxes\n",
    "            bboxes = [table.bbox for table in page.find_tables(table_settings=ts)]\n",
    "            page_text=page.filter(not_within_bboxes).extract_text()\n",
    "            table_settings = {\n",
    "                \"vertical_strategy\": \"text\",\n",
    "                \"horizontal_strategy\": \"text\"\n",
    "            }\n",
    "            table = page.extract_tables(table_settings)\n",
    "            if len(table) > 0:\n",
    "                tables.append(table)\n",
    "            # print(tables)\n",
    "            rx = re.compile(r'''\n",
    "                ^(?:Section\\ )?(\\d+\\.+\\d+)+\n",
    "                [\\s\\S]*?\n",
    "                (?=^(?:Section\\ )?(\\d+\\.+\\d+)+|\\Z)\n",
    "\n",
    "                ''', re.VERBOSE | re.MULTILINE)\n",
    "\n",
    "            parts = [match.group(0) for match in rx.finditer(page_text)]\n",
    "            # print(parts)\n",
    "            for part in parts:\n",
    "                if len(part) > 0:\n",
    "                    sections.append(part)\n",
    "            # if len(parts) > 0:\n",
    "            #     sections.append(parts)\n",
    "            # if find_chapters(page_text):\n",
    "            #     page_indices.append(i)\n",
    "        print(f\"Total {len(sections)} parts.\")\n",
    "        print(f\"Total {len(tables)} tables\")"
   ]
  },
  {
   "cell_type": "code",
   "execution_count": null,
   "metadata": {},
   "outputs": [],
   "source": [
    "table = tables[10]\n",
    "df = pd.DataFrame(table[1::],columns=table[0])\n",
    "df"
   ]
  },
  {
   "cell_type": "code",
   "execution_count": null,
   "metadata": {},
   "outputs": [],
   "source": [
    "sections[15]"
   ]
  },
  {
   "cell_type": "code",
   "execution_count": null,
   "metadata": {},
   "outputs": [],
   "source": [
    "section_embedding=get_embedding(sections[15],engine='text-embedding-ada-002')"
   ]
  },
  {
   "cell_type": "code",
   "execution_count": null,
   "metadata": {},
   "outputs": [],
   "source": [
    "section_embedding"
   ]
  },
  {
   "cell_type": "code",
   "execution_count": null,
   "metadata": {},
   "outputs": [],
   "source": [
    "table_embedding = get_embedding(df.to_html(),engine='text-embedding-ada-002')"
   ]
  },
  {
   "cell_type": "code",
   "execution_count": null,
   "metadata": {},
   "outputs": [],
   "source": [
    "table_embedding"
   ]
  },
  {
   "cell_type": "code",
   "execution_count": null,
   "metadata": {},
   "outputs": [],
   "source": [
    "tables_html=[]\n",
    "for table in tables:\n",
    "    df = pd.DataFrame(table[1::],columns=table[0])\n",
    "    tables_html.append(df.to_html())\n",
    "            \n",
    "df_pdf = pd.DataFrame({'text':sections+tables_html})"
   ]
  },
  {
   "cell_type": "code",
   "execution_count": null,
   "metadata": {},
   "outputs": [],
   "source": [
    "len(df_pdf)"
   ]
  },
  {
   "cell_type": "code",
   "execution_count": null,
   "metadata": {},
   "outputs": [],
   "source": [
    "# Split dataframes to meet Azure OpenAI rate/token limit, may take up to 20mins\n",
    "df_split = np.array_split(df_pdf,10)\n",
    "for index, df in enumerate(df_split):\n",
    "    if not os.path.exists(f\"D:\\\\Code\\\\CognitiveSearchGPT\\\\backend\\\\data\\\\CMB\\\\CMB_Report_embedding_{index}.csv\"):\n",
    "        df['text']= df[\"text\"].apply(lambda x : normalize_text(x))\n",
    "        df['ada_v2'] = df['text'].apply(lambda x : get_embedding(x, engine = 'text-embedding-ada-002'))\n",
    "        df.to_csv(f'D:\\\\Code\\\\CognitiveSearchGPT\\\\backend\\\\data\\\\CMB\\\\CMB_Report_embedding_{index}.csv',mode='a',header=False,encoding='utf-8')\n",
    "        time.sleep(60)\n",
    "# df_pdf['ada_v2'] = df_pdf[\"text\"].apply(lambda x : get_embedding(x, engine = 'text-embedding-ada-002')) # engine should be set to the deployment name you chose when you deployed the text-embedding-ada-002 (Version 2) model"
   ]
  },
  {
   "cell_type": "code",
   "execution_count": null,
   "metadata": {},
   "outputs": [],
   "source": [
    "df = df_split[8]\n",
    "df.head(4)"
   ]
  },
  {
   "cell_type": "code",
   "execution_count": null,
   "metadata": {},
   "outputs": [],
   "source": [
    "dfs = []\n",
    "for i in range(10):\n",
    "    df = pd.read_csv(f\"D:\\\\Code\\\\CognitiveSearchGPT\\\\backend\\\\data\\\\CMB\\\\CMB_Report_embedding_{i}.csv\", names= ['id','text','ada_v2'], encoding=\"utf-8\")\n",
    "    dfs.append(df)\n",
    "df_all = pd.concat(dfs)\n",
    "df_all"
   ]
  },
  {
   "cell_type": "code",
   "execution_count": null,
   "metadata": {},
   "outputs": [],
   "source": [
    "df = pd.read_csv(f\"D:\\\\Code\\\\CognitiveSearchGPT\\\\backend\\\\data\\\\CMB\\\\CMB_Report_embedding_{0}.csv\",names= ['id','text','ada_v2'], encoding=\"utf-8\")\n",
    "df.head(5)\n",
    "df.info()"
   ]
  },
  {
   "cell_type": "code",
   "execution_count": null,
   "metadata": {},
   "outputs": [],
   "source": [
    "# search through the reviews for a specific product\n",
    "def search_docs(df, user_query, top_n=3, to_print=True):\n",
    "    embedding = get_embedding(\n",
    "        user_query,\n",
    "        engine=\"text-embedding-ada-002\" # engine should be set to the deployment name you chose when you deployed the text-embedding-ada-002 (Version 2) model\n",
    "    )\n",
    "    df[\"similarities\"] = df[\"ada_v2\"].apply(lambda x: cosine_similarity(eval(x), embedding))\n",
    "\n",
    "    res = (\n",
    "            df.sort_values(\"similarities\", ascending=False)\n",
    "            .head(top_n)\n",
    "        )\n",
    "    return res\n",
    "\n",
    "\n",
    "res = search_docs(df_all, \"2022年总资产是多少?\", top_n=4)"
   ]
  },
  {
   "cell_type": "code",
   "execution_count": null,
   "metadata": {},
   "outputs": [],
   "source": [
    "res"
   ]
  },
  {
   "cell_type": "code",
   "execution_count": null,
   "metadata": {},
   "outputs": [],
   "source": [
    "question = \"给我财务业绩摘要表\"\n",
    "res = search_docs(df_all, question, top_n=4)\n",
    "\n",
    "context = res['text'].values.tolist()\n",
    "context_str = \"\\n\".join(context)\n",
    "prompt = '''<|im_start|>系统助理帮助公司员工解决他们的问题，回答要简短。\n",
    "仅回答以下来源列表中列出的事实。如果下面没有足够的信息，请说您不知道。不要生成不使用以下来源的答案。不要使用年代久远的来源信息。对于表格形式的数据，请以HTML表格形式输出，不要使用Markdown表格.\n",
    "来源:\n",
    "{sources}\n",
    "<|im_end|>\n",
    "<|im_start|>\n",
    "user: {question}\n",
    "<|im_end|>\n",
    "<|im_start|>assistant:\n",
    "'''\n",
    "completion = openai.Completion.create(\n",
    "            engine='gpt-35-turbo', \n",
    "            prompt=prompt.format(sources=context_str,question=question), \n",
    "            temperature=0.0, \n",
    "            max_tokens=2000, \n",
    "            n=1, \n",
    "            stop=[\"<|im_end|>\", \"<|im_start|>\"])\n",
    "\n",
    "result = completion.choices[0].text\n",
    "print(result)"
   ]
  },
  {
   "cell_type": "code",
   "execution_count": 7,
   "metadata": {},
   "outputs": [
    {
     "data": {
      "text/plain": [
       "'富途上线GPT产品，智能助手让您轻松掌控金融市场！让我们一起开创时代的新篇章！'"
      ]
     },
     "execution_count": 7,
     "metadata": {},
     "output_type": "execute_result"
    },
    {
     "ename": "",
     "evalue": "",
     "output_type": "error",
     "traceback": [
      "\u001b[1;31m在当前单元格或上一个单元格中执行代码时 Kernel 崩溃。请查看单元格中的代码，以确定故障的可能原因。有关详细信息，请单击 <a href='https://aka.ms/vscodeJupyterKernelCrash'>此处</a>。有关更多详细信息，请查看 Jupyter <a href='command:jupyter.viewOutput'>log</a>。"
     ]
    }
   ],
   "source": [
    "openai.api_version = \"2022-12-01\"\n",
    "\n",
    "question = '给我写一个关于富途上线GPT产品的广告语，要面向金融客户，要有激情'\n",
    "completion = openai.Completion.create(\n",
    "            engine='FutuTurbo01', \n",
    "            prompt='''<|im_start|>系统助理帮助公司员工解决他们的问题，回答要简短。<|im_end|><|im_start|>user:{question}<|im_end|><|im_start>assistant:'''.format(question=question), \n",
    "            temperature=0.7, \n",
    "            max_tokens=2000, \n",
    "            n=1, \n",
    "            stop=[\"<|im_end|>\", \"<|im_start|>\"])\n",
    "result = completion.choices[0].text\n",
    "result"
   ]
  },
  {
   "cell_type": "code",
   "execution_count": 6,
   "metadata": {},
   "outputs": [],
   "source": [
    "result = completion.choices[0].text"
   ]
  }
 ],
 "metadata": {
  "kernelspec": {
   "display_name": "Python 3",
   "language": "python",
   "name": "python3"
  },
  "language_info": {
   "codemirror_mode": {
    "name": "ipython",
    "version": 3
   },
   "file_extension": ".py",
   "mimetype": "text/x-python",
   "name": "python",
   "nbconvert_exporter": "python",
   "pygments_lexer": "ipython3",
   "version": "3.10.5"
  },
  "orig_nbformat": 4
 },
 "nbformat": 4,
 "nbformat_minor": 2
}
