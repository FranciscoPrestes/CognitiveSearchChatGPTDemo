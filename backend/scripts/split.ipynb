{
 "cells": [
  {
   "cell_type": "code",
   "execution_count": 2,
   "metadata": {},
   "outputs": [],
   "source": [
    "import re\n",
    "import PyPDF2\n",
    "import pdfplumber\n",
    "import pandas as pd\n",
    "import openai\n",
    "from num2words import num2words\n",
    "import os\n",
    "import numpy as np\n",
    "from openai.embeddings_utils import get_embedding, cosine_similarity\n",
    "import time"
   ]
  },
  {
   "cell_type": "code",
   "execution_count": null,
   "metadata": {},
   "outputs": [],
   "source": [
    "input_pdf = \"D:\\\\Code\\\\CognitiveSearchGPT\\\\backend\\\\data\\\\2022_CMB_Report.pdf\"  # 请将该路径替换为实际的输入PDF路径\n",
    "output_pdf_prefix = \"D:\\\\Code\\\\CognitiveSearchGPT\\\\backend\\\\data\\\\CMB\\\\CMB_Report\"    # 输出文件的前缀"
   ]
  },
  {
   "cell_type": "code",
   "execution_count": null,
   "metadata": {},
   "outputs": [],
   "source": [
    "AZURE_OPENAI_API_KEY_SOUTH_CENTRAL_US=\n",
    "AZURE_OPENAI_BASE=\n",
    "openai.api_type = \"azure\"\n",
    "openai.api_key = AZURE_OPENAI_API_KEY_SOUTH_CENTRAL_US\n",
    "openai.api_base = AZURE_OPENAI_BASE\n",
    "openai.api_version = \"2022-12-01\""
   ]
  },
  {
   "cell_type": "code",
   "execution_count": null,
   "metadata": {},
   "outputs": [],
   "source": [
    "bboxes = []\n",
    "\n",
    "def not_within_bboxes(obj):\n",
    "    \"\"\"Check if the object is in any of the table's bbox.\"\"\"\n",
    "    def obj_in_bbox(_bbox):\n",
    "        \"\"\"See https://github.com/jsvine/pdfplumber/blob/stable/pdfplumber/table.py#L404\"\"\"\n",
    "        v_mid = (obj[\"top\"] + obj[\"bottom\"]) / 2\n",
    "        h_mid = (obj[\"x0\"] + obj[\"x1\"]) / 2\n",
    "        x0, top, x1, bottom = _bbox\n",
    "        return (h_mid >= x0) and (h_mid < x1) and (v_mid >= top) and (v_mid < bottom)\n",
    "    return not any(obj_in_bbox(__bbox) for __bbox in bboxes)"
   ]
  },
  {
   "cell_type": "code",
   "execution_count": null,
   "metadata": {},
   "outputs": [],
   "source": [
    "def curves_to_edges(cs):\n",
    "    \"\"\"See https://github.com/jsvine/pdfplumber/issues/127\"\"\"\n",
    "    edges = []\n",
    "    for c in cs:\n",
    "        edges += pdfplumber.utils.rect_to_edges(c)\n",
    "    return edges"
   ]
  },
  {
   "cell_type": "code",
   "execution_count": null,
   "metadata": {},
   "outputs": [],
   "source": [
    "def normalize_text(s, sep_token = \" \\n \"):\n",
    "    s = re.sub(r'\\s+',  ' ', s).strip()\n",
    "    s = re.sub(r\". ,\",\"\",s)\n",
    "    # remove all instances of multiple spaces\n",
    "    s = s.replace(\"..\",\".\")\n",
    "    s = s.replace(\". .\",\".\")\n",
    "    s = s.replace(\"\\n\", \"\")\n",
    "    s = s.strip()\n",
    "    \n",
    "    return s"
   ]
  },
  {
   "cell_type": "code",
   "execution_count": null,
   "metadata": {},
   "outputs": [],
   "source": [
    "with pdfplumber.open(input_pdf) as pdf:\n",
    "        total_pages = len(pdf.pages)\n",
    "\n",
    "        page_indices = []\n",
    "        sections = []\n",
    "        tables = []\n",
    "        for i, page in enumerate(pdf.pages):\n",
    "            page_text = page.extract_text()\n",
    "            ts = {\n",
    "                \"vertical_strategy\": \"explicit\",\n",
    "                \"horizontal_strategy\": \"explicit\",\n",
    "                \"explicit_vertical_lines\": curves_to_edges(page.curves + page.edges),\n",
    "                \"explicit_horizontal_lines\": curves_to_edges(page.curves + page.edges),\n",
    "                \"intersection_y_tolerance\": 10,\n",
    "            }\n",
    "            global bboxes\n",
    "            bboxes = [table.bbox for table in page.find_tables(table_settings=ts)]\n",
    "            page_text=page.filter(not_within_bboxes).extract_text()\n",
    "            table_settings = {\n",
    "                \"vertical_strategy\": \"text\",\n",
    "                \"horizontal_strategy\": \"text\"\n",
    "            }\n",
    "            table = page.extract_tables(table_settings)\n",
    "            if len(table) > 0:\n",
    "                tables.append(table)\n",
    "            # print(tables)\n",
    "            rx = re.compile(r'''\n",
    "                ^(?:Section\\ )?(\\d+\\.+\\d+)+\n",
    "                [\\s\\S]*?\n",
    "                (?=^(?:Section\\ )?(\\d+\\.+\\d+)+|\\Z)\n",
    "\n",
    "                ''', re.VERBOSE | re.MULTILINE)\n",
    "\n",
    "            parts = [match.group(0) for match in rx.finditer(page_text)]\n",
    "            # print(parts)\n",
    "            for part in parts:\n",
    "                if len(part) > 0:\n",
    "                    sections.append(part)\n",
    "            # if len(parts) > 0:\n",
    "            #     sections.append(parts)\n",
    "            # if find_chapters(page_text):\n",
    "            #     page_indices.append(i)\n",
    "        print(f\"Total {len(sections)} parts.\")\n",
    "        print(f\"Total {len(tables)} tables\")"
   ]
  },
  {
   "cell_type": "code",
   "execution_count": null,
   "metadata": {},
   "outputs": [],
   "source": [
    "table = tables[10]\n",
    "df = pd.DataFrame(table[1::],columns=table[0])\n",
    "df"
   ]
  },
  {
   "cell_type": "code",
   "execution_count": null,
   "metadata": {},
   "outputs": [],
   "source": [
    "sections[15]"
   ]
  },
  {
   "cell_type": "code",
   "execution_count": null,
   "metadata": {},
   "outputs": [],
   "source": [
    "section_embedding=get_embedding(sections[15],engine='text-embedding-ada-002')"
   ]
  },
  {
   "cell_type": "code",
   "execution_count": null,
   "metadata": {},
   "outputs": [],
   "source": [
    "section_embedding"
   ]
  },
  {
   "cell_type": "code",
   "execution_count": null,
   "metadata": {},
   "outputs": [],
   "source": [
    "table_embedding = get_embedding(df.to_html(),engine='text-embedding-ada-002')"
   ]
  },
  {
   "cell_type": "code",
   "execution_count": null,
   "metadata": {},
   "outputs": [],
   "source": [
    "table_embedding"
   ]
  },
  {
   "cell_type": "code",
   "execution_count": null,
   "metadata": {},
   "outputs": [],
   "source": [
    "tables_html=[]\n",
    "for table in tables:\n",
    "    df = pd.DataFrame(table[1::],columns=table[0])\n",
    "    tables_html.append(df.to_html())\n",
    "            \n",
    "df_pdf = pd.DataFrame({'text':sections+tables_html})"
   ]
  },
  {
   "cell_type": "code",
   "execution_count": null,
   "metadata": {},
   "outputs": [],
   "source": [
    "len(df_pdf)"
   ]
  },
  {
   "cell_type": "code",
   "execution_count": null,
   "metadata": {},
   "outputs": [],
   "source": [
    "# Split dataframes to meet Azure OpenAI rate/token limit, may take up to 20mins\n",
    "df_split = np.array_split(df_pdf,10)\n",
    "for index, df in enumerate(df_split):\n",
    "    if not os.path.exists(f\"D:\\\\Code\\\\CognitiveSearchGPT\\\\backend\\\\data\\\\CMB\\\\CMB_Report_embedding_{index}.csv\"):\n",
    "        df['text']= df[\"text\"].apply(lambda x : normalize_text(x))\n",
    "        df['ada_v2'] = df['text'].apply(lambda x : get_embedding(x, engine = 'text-embedding-ada-002'))\n",
    "        df.to_csv(f'D:\\\\Code\\\\CognitiveSearchGPT\\\\backend\\\\data\\\\CMB\\\\CMB_Report_embedding_{index}.csv',mode='a',header=False,encoding='utf-8')\n",
    "        time.sleep(60)\n",
    "# df_pdf['ada_v2'] = df_pdf[\"text\"].apply(lambda x : get_embedding(x, engine = 'text-embedding-ada-002')) # engine should be set to the deployment name you chose when you deployed the text-embedding-ada-002 (Version 2) model"
   ]
  },
  {
   "cell_type": "code",
   "execution_count": null,
   "metadata": {},
   "outputs": [],
   "source": [
    "df = df_split[8]\n",
    "df.head(4)"
   ]
  },
  {
   "cell_type": "code",
   "execution_count": null,
   "metadata": {},
   "outputs": [],
   "source": [
    "dfs = []\n",
    "for i in range(10):\n",
    "    df = pd.read_csv(f\"D:\\\\Code\\\\CognitiveSearchGPT\\\\backend\\\\data\\\\CMB\\\\CMB_Report_embedding_{i}.csv\", names= ['id','text','ada_v2'], encoding=\"utf-8\")\n",
    "    dfs.append(df)\n",
    "df_all = pd.concat(dfs)\n",
    "df_all"
   ]
  },
  {
   "cell_type": "code",
   "execution_count": null,
   "metadata": {},
   "outputs": [],
   "source": [
    "df = pd.read_csv(f\"D:\\\\Code\\\\CognitiveSearchGPT\\\\backend\\\\data\\\\CMB\\\\CMB_Report_embedding_{0}.csv\",names= ['id','text','ada_v2'], encoding=\"utf-8\")\n",
    "df.head(5)\n",
    "df.info()"
   ]
  },
  {
   "cell_type": "code",
   "execution_count": null,
   "metadata": {},
   "outputs": [],
   "source": [
    "# search through the reviews for a specific product\n",
    "def search_docs(df, user_query, top_n=3, to_print=True):\n",
    "    embedding = get_embedding(\n",
    "        user_query,\n",
    "        engine=\"text-embedding-ada-002\" # engine should be set to the deployment name you chose when you deployed the text-embedding-ada-002 (Version 2) model\n",
    "    )\n",
    "    df[\"similarities\"] = df[\"ada_v2\"].apply(lambda x: cosine_similarity(eval(x), embedding))\n",
    "\n",
    "    res = (\n",
    "            df.sort_values(\"similarities\", ascending=False)\n",
    "            .head(top_n)\n",
    "        )\n",
    "    return res\n",
    "\n",
    "\n",
    "res = search_docs(df_all, \"2022年总资产是多少?\", top_n=4)"
   ]
  },
  {
   "cell_type": "code",
   "execution_count": null,
   "metadata": {},
   "outputs": [],
   "source": [
    "res"
   ]
  },
  {
   "cell_type": "code",
   "execution_count": null,
   "metadata": {},
   "outputs": [],
   "source": [
    "question = \"给我财务业绩摘要表\"\n",
    "res = search_docs(df_all, question, top_n=4)\n",
    "\n",
    "context = res['text'].values.tolist()\n",
    "context_str = \"\\n\".join(context)\n",
    "prompt = '''<|im_start|>系统助理帮助公司员工解决他们的问题，回答要简短。\n",
    "仅回答以下来源列表中列出的事实。如果下面没有足够的信息，请说您不知道。不要生成不使用以下来源的答案。不要使用年代久远的来源信息。对于表格形式的数据，请以HTML表格形式输出，不要使用Markdown表格.\n",
    "来源:\n",
    "{sources}\n",
    "<|im_end|>\n",
    "<|im_start|>\n",
    "user: {question}\n",
    "<|im_end|>\n",
    "<|im_start|>assistant:\n",
    "'''\n",
    "completion = openai.Completion.create(\n",
    "            engine='gpt-35-turbo', \n",
    "            prompt=prompt.format(sources=context_str,question=question), \n",
    "            temperature=0.0, \n",
    "            max_tokens=2000, \n",
    "            n=1, \n",
    "            stop=[\"<|im_end|>\", \"<|im_start|>\"])\n",
    "\n",
    "result = completion.choices[0].text\n",
    "print(result)"
   ]
  },
  {
   "cell_type": "code",
   "execution_count": 3,
   "metadata": {},
   "outputs": [
    {
     "ename": "InvalidRequestError",
     "evalue": "The API deployment for this resource does not exist. If you created the deployment within the last 5 minutes, please wait a moment and try again.",
     "output_type": "error",
     "traceback": [
      "\u001b[1;31m---------------------------------------------------------------------------\u001b[0m",
      "\u001b[1;31mInvalidRequestError\u001b[0m                       Traceback (most recent call last)",
      "\u001b[1;32md:\\Code\\CognitiveSearchGPT\\backend\\scripts\\split.ipynb 单元格 23\u001b[0m in \u001b[0;36m<cell line: 7>\u001b[1;34m()\u001b[0m\n\u001b[0;32m      <a href='vscode-notebook-cell:/d%3A/Code/CognitiveSearchGPT/backend/scripts/split.ipynb#X31sZmlsZQ%3D%3D?line=3'>4</a>\u001b[0m openai\u001b[39m.\u001b[39mapi_version \u001b[39m=\u001b[39m \u001b[39m\"\u001b[39m\u001b[39m2022-12-01\u001b[39m\u001b[39m\"\u001b[39m\n\u001b[0;32m      <a href='vscode-notebook-cell:/d%3A/Code/CognitiveSearchGPT/backend/scripts/split.ipynb#X31sZmlsZQ%3D%3D?line=5'>6</a>\u001b[0m question \u001b[39m=\u001b[39m \u001b[39m'\u001b[39m\u001b[39m给我写一个关于富途上线GPT产品的广告语，要面向金融客户，要有激情\u001b[39m\u001b[39m'\u001b[39m\n\u001b[1;32m----> <a href='vscode-notebook-cell:/d%3A/Code/CognitiveSearchGPT/backend/scripts/split.ipynb#X31sZmlsZQ%3D%3D?line=6'>7</a>\u001b[0m completion \u001b[39m=\u001b[39m openai\u001b[39m.\u001b[39;49mCompletion\u001b[39m.\u001b[39;49mcreate(\n\u001b[0;32m      <a href='vscode-notebook-cell:/d%3A/Code/CognitiveSearchGPT/backend/scripts/split.ipynb#X31sZmlsZQ%3D%3D?line=7'>8</a>\u001b[0m             engine\u001b[39m=\u001b[39;49m\u001b[39m'\u001b[39;49m\u001b[39mgpt-35-turbo\u001b[39;49m\u001b[39m'\u001b[39;49m, \n\u001b[0;32m      <a href='vscode-notebook-cell:/d%3A/Code/CognitiveSearchGPT/backend/scripts/split.ipynb#X31sZmlsZQ%3D%3D?line=8'>9</a>\u001b[0m             prompt\u001b[39m=\u001b[39;49m\u001b[39m'''\u001b[39;49m\u001b[39m<|im_start|>系统助理帮助公司员工解决他们的问题，回答要简短。<|im_end|><|im_start|>user:\u001b[39;49m\u001b[39m{question}\u001b[39;49;00m\u001b[39m<|im_end|><|im_start>assistant:\u001b[39;49m\u001b[39m'''\u001b[39;49m\u001b[39m.\u001b[39;49mformat(question\u001b[39m=\u001b[39;49mquestion), \n\u001b[0;32m     <a href='vscode-notebook-cell:/d%3A/Code/CognitiveSearchGPT/backend/scripts/split.ipynb#X31sZmlsZQ%3D%3D?line=9'>10</a>\u001b[0m             temperature\u001b[39m=\u001b[39;49m\u001b[39m0.0\u001b[39;49m, \n\u001b[0;32m     <a href='vscode-notebook-cell:/d%3A/Code/CognitiveSearchGPT/backend/scripts/split.ipynb#X31sZmlsZQ%3D%3D?line=10'>11</a>\u001b[0m             max_tokens\u001b[39m=\u001b[39;49m\u001b[39m2000\u001b[39;49m, \n\u001b[0;32m     <a href='vscode-notebook-cell:/d%3A/Code/CognitiveSearchGPT/backend/scripts/split.ipynb#X31sZmlsZQ%3D%3D?line=11'>12</a>\u001b[0m             n\u001b[39m=\u001b[39;49m\u001b[39m1\u001b[39;49m, \n\u001b[0;32m     <a href='vscode-notebook-cell:/d%3A/Code/CognitiveSearchGPT/backend/scripts/split.ipynb#X31sZmlsZQ%3D%3D?line=12'>13</a>\u001b[0m             stop\u001b[39m=\u001b[39;49m[\u001b[39m\"\u001b[39;49m\u001b[39m<|im_end|>\u001b[39;49m\u001b[39m\"\u001b[39;49m, \u001b[39m\"\u001b[39;49m\u001b[39m<|im_start|>\u001b[39;49m\u001b[39m\"\u001b[39;49m])\n",
      "File \u001b[1;32mc:\\Users\\angzou\\AppData\\Local\\Programs\\Python\\Python310\\lib\\site-packages\\openai\\api_resources\\completion.py:25\u001b[0m, in \u001b[0;36mCompletion.create\u001b[1;34m(cls, *args, **kwargs)\u001b[0m\n\u001b[0;32m     23\u001b[0m \u001b[39mwhile\u001b[39;00m \u001b[39mTrue\u001b[39;00m:\n\u001b[0;32m     24\u001b[0m     \u001b[39mtry\u001b[39;00m:\n\u001b[1;32m---> 25\u001b[0m         \u001b[39mreturn\u001b[39;00m \u001b[39msuper\u001b[39m()\u001b[39m.\u001b[39mcreate(\u001b[39m*\u001b[39margs, \u001b[39m*\u001b[39m\u001b[39m*\u001b[39mkwargs)\n\u001b[0;32m     26\u001b[0m     \u001b[39mexcept\u001b[39;00m TryAgain \u001b[39mas\u001b[39;00m e:\n\u001b[0;32m     27\u001b[0m         \u001b[39mif\u001b[39;00m timeout \u001b[39mis\u001b[39;00m \u001b[39mnot\u001b[39;00m \u001b[39mNone\u001b[39;00m \u001b[39mand\u001b[39;00m time\u001b[39m.\u001b[39mtime() \u001b[39m>\u001b[39m start \u001b[39m+\u001b[39m timeout:\n",
      "File \u001b[1;32mc:\\Users\\angzou\\AppData\\Local\\Programs\\Python\\Python310\\lib\\site-packages\\openai\\api_resources\\abstract\\engine_api_resource.py:153\u001b[0m, in \u001b[0;36mEngineAPIResource.create\u001b[1;34m(cls, api_key, api_base, api_type, request_id, api_version, organization, **params)\u001b[0m\n\u001b[0;32m    127\u001b[0m \u001b[39m@classmethod\u001b[39m\n\u001b[0;32m    128\u001b[0m \u001b[39mdef\u001b[39;00m \u001b[39mcreate\u001b[39m(\n\u001b[0;32m    129\u001b[0m     \u001b[39mcls\u001b[39m,\n\u001b[1;32m   (...)\u001b[0m\n\u001b[0;32m    136\u001b[0m     \u001b[39m*\u001b[39m\u001b[39m*\u001b[39mparams,\n\u001b[0;32m    137\u001b[0m ):\n\u001b[0;32m    138\u001b[0m     (\n\u001b[0;32m    139\u001b[0m         deployment_id,\n\u001b[0;32m    140\u001b[0m         engine,\n\u001b[1;32m   (...)\u001b[0m\n\u001b[0;32m    150\u001b[0m         api_key, api_base, api_type, api_version, organization, \u001b[39m*\u001b[39m\u001b[39m*\u001b[39mparams\n\u001b[0;32m    151\u001b[0m     )\n\u001b[1;32m--> 153\u001b[0m     response, _, api_key \u001b[39m=\u001b[39m requestor\u001b[39m.\u001b[39;49mrequest(\n\u001b[0;32m    154\u001b[0m         \u001b[39m\"\u001b[39;49m\u001b[39mpost\u001b[39;49m\u001b[39m\"\u001b[39;49m,\n\u001b[0;32m    155\u001b[0m         url,\n\u001b[0;32m    156\u001b[0m         params\u001b[39m=\u001b[39;49mparams,\n\u001b[0;32m    157\u001b[0m         headers\u001b[39m=\u001b[39;49mheaders,\n\u001b[0;32m    158\u001b[0m         stream\u001b[39m=\u001b[39;49mstream,\n\u001b[0;32m    159\u001b[0m         request_id\u001b[39m=\u001b[39;49mrequest_id,\n\u001b[0;32m    160\u001b[0m         request_timeout\u001b[39m=\u001b[39;49mrequest_timeout,\n\u001b[0;32m    161\u001b[0m     )\n\u001b[0;32m    163\u001b[0m     \u001b[39mif\u001b[39;00m stream:\n\u001b[0;32m    164\u001b[0m         \u001b[39m# must be an iterator\u001b[39;00m\n\u001b[0;32m    165\u001b[0m         \u001b[39massert\u001b[39;00m \u001b[39mnot\u001b[39;00m \u001b[39misinstance\u001b[39m(response, OpenAIResponse)\n",
      "File \u001b[1;32mc:\\Users\\angzou\\AppData\\Local\\Programs\\Python\\Python310\\lib\\site-packages\\openai\\api_requestor.py:226\u001b[0m, in \u001b[0;36mAPIRequestor.request\u001b[1;34m(self, method, url, params, headers, files, stream, request_id, request_timeout)\u001b[0m\n\u001b[0;32m    205\u001b[0m \u001b[39mdef\u001b[39;00m \u001b[39mrequest\u001b[39m(\n\u001b[0;32m    206\u001b[0m     \u001b[39mself\u001b[39m,\n\u001b[0;32m    207\u001b[0m     method,\n\u001b[1;32m   (...)\u001b[0m\n\u001b[0;32m    214\u001b[0m     request_timeout: Optional[Union[\u001b[39mfloat\u001b[39m, Tuple[\u001b[39mfloat\u001b[39m, \u001b[39mfloat\u001b[39m]]] \u001b[39m=\u001b[39m \u001b[39mNone\u001b[39;00m,\n\u001b[0;32m    215\u001b[0m ) \u001b[39m-\u001b[39m\u001b[39m>\u001b[39m Tuple[Union[OpenAIResponse, Iterator[OpenAIResponse]], \u001b[39mbool\u001b[39m, \u001b[39mstr\u001b[39m]:\n\u001b[0;32m    216\u001b[0m     result \u001b[39m=\u001b[39m \u001b[39mself\u001b[39m\u001b[39m.\u001b[39mrequest_raw(\n\u001b[0;32m    217\u001b[0m         method\u001b[39m.\u001b[39mlower(),\n\u001b[0;32m    218\u001b[0m         url,\n\u001b[1;32m   (...)\u001b[0m\n\u001b[0;32m    224\u001b[0m         request_timeout\u001b[39m=\u001b[39mrequest_timeout,\n\u001b[0;32m    225\u001b[0m     )\n\u001b[1;32m--> 226\u001b[0m     resp, got_stream \u001b[39m=\u001b[39m \u001b[39mself\u001b[39;49m\u001b[39m.\u001b[39;49m_interpret_response(result, stream)\n\u001b[0;32m    227\u001b[0m     \u001b[39mreturn\u001b[39;00m resp, got_stream, \u001b[39mself\u001b[39m\u001b[39m.\u001b[39mapi_key\n",
      "File \u001b[1;32mc:\\Users\\angzou\\AppData\\Local\\Programs\\Python\\Python310\\lib\\site-packages\\openai\\api_requestor.py:619\u001b[0m, in \u001b[0;36mAPIRequestor._interpret_response\u001b[1;34m(self, result, stream)\u001b[0m\n\u001b[0;32m    611\u001b[0m     \u001b[39mreturn\u001b[39;00m (\n\u001b[0;32m    612\u001b[0m         \u001b[39mself\u001b[39m\u001b[39m.\u001b[39m_interpret_response_line(\n\u001b[0;32m    613\u001b[0m             line, result\u001b[39m.\u001b[39mstatus_code, result\u001b[39m.\u001b[39mheaders, stream\u001b[39m=\u001b[39m\u001b[39mTrue\u001b[39;00m\n\u001b[0;32m    614\u001b[0m         )\n\u001b[0;32m    615\u001b[0m         \u001b[39mfor\u001b[39;00m line \u001b[39min\u001b[39;00m parse_stream(result\u001b[39m.\u001b[39miter_lines())\n\u001b[0;32m    616\u001b[0m     ), \u001b[39mTrue\u001b[39;00m\n\u001b[0;32m    617\u001b[0m \u001b[39melse\u001b[39;00m:\n\u001b[0;32m    618\u001b[0m     \u001b[39mreturn\u001b[39;00m (\n\u001b[1;32m--> 619\u001b[0m         \u001b[39mself\u001b[39;49m\u001b[39m.\u001b[39;49m_interpret_response_line(\n\u001b[0;32m    620\u001b[0m             result\u001b[39m.\u001b[39;49mcontent\u001b[39m.\u001b[39;49mdecode(\u001b[39m\"\u001b[39;49m\u001b[39mutf-8\u001b[39;49m\u001b[39m\"\u001b[39;49m),\n\u001b[0;32m    621\u001b[0m             result\u001b[39m.\u001b[39;49mstatus_code,\n\u001b[0;32m    622\u001b[0m             result\u001b[39m.\u001b[39;49mheaders,\n\u001b[0;32m    623\u001b[0m             stream\u001b[39m=\u001b[39;49m\u001b[39mFalse\u001b[39;49;00m,\n\u001b[0;32m    624\u001b[0m         ),\n\u001b[0;32m    625\u001b[0m         \u001b[39mFalse\u001b[39;00m,\n\u001b[0;32m    626\u001b[0m     )\n",
      "File \u001b[1;32mc:\\Users\\angzou\\AppData\\Local\\Programs\\Python\\Python310\\lib\\site-packages\\openai\\api_requestor.py:682\u001b[0m, in \u001b[0;36mAPIRequestor._interpret_response_line\u001b[1;34m(self, rbody, rcode, rheaders, stream)\u001b[0m\n\u001b[0;32m    680\u001b[0m stream_error \u001b[39m=\u001b[39m stream \u001b[39mand\u001b[39;00m \u001b[39m\"\u001b[39m\u001b[39merror\u001b[39m\u001b[39m\"\u001b[39m \u001b[39min\u001b[39;00m resp\u001b[39m.\u001b[39mdata\n\u001b[0;32m    681\u001b[0m \u001b[39mif\u001b[39;00m stream_error \u001b[39mor\u001b[39;00m \u001b[39mnot\u001b[39;00m \u001b[39m200\u001b[39m \u001b[39m<\u001b[39m\u001b[39m=\u001b[39m rcode \u001b[39m<\u001b[39m \u001b[39m300\u001b[39m:\n\u001b[1;32m--> 682\u001b[0m     \u001b[39mraise\u001b[39;00m \u001b[39mself\u001b[39m\u001b[39m.\u001b[39mhandle_error_response(\n\u001b[0;32m    683\u001b[0m         rbody, rcode, resp\u001b[39m.\u001b[39mdata, rheaders, stream_error\u001b[39m=\u001b[39mstream_error\n\u001b[0;32m    684\u001b[0m     )\n\u001b[0;32m    685\u001b[0m \u001b[39mreturn\u001b[39;00m resp\n",
      "\u001b[1;31mInvalidRequestError\u001b[0m: The API deployment for this resource does not exist. If you created the deployment within the last 5 minutes, please wait a moment and try again."
     ]
    }
   ],
   "source": [
    "openai.api_type = \"azure\"\n",
    "openai.api_key = '4f1040b5daad408abe969ceb1f82b6df'\n",
    "openai.api_base = 'https://futuopenaius01.openai.azure.com/'\n",
    "openai.api_version = \"2022-12-01\"\n",
    "\n",
    "question = '给我写一个关于富途上线GPT产品的广告语，要面向金融客户，要有激情'\n",
    "completion = openai.Completion.create(\n",
    "            engine='gpt-35-turbo', \n",
    "            prompt='''<|im_start|>系统助理帮助公司员工解决他们的问题，回答要简短。<|im_end|><|im_start|>user:{question}<|im_end|><|im_start>assistant:'''.format(question=question), \n",
    "            temperature=0.7, \n",
    "            max_tokens=2000, \n",
    "            n=1, \n",
    "            stop=[\"<|im_end|>\", \"<|im_start|>\"])"
   ]
  }
 ],
 "metadata": {
  "kernelspec": {
   "display_name": "Python 3",
   "language": "python",
   "name": "python3"
  },
  "language_info": {
   "codemirror_mode": {
    "name": "ipython",
    "version": 3
   },
   "file_extension": ".py",
   "mimetype": "text/x-python",
   "name": "python",
   "nbconvert_exporter": "python",
   "pygments_lexer": "ipython3",
   "version": "3.10.5"
  },
  "orig_nbformat": 4
 },
 "nbformat": 4,
 "nbformat_minor": 2
}
