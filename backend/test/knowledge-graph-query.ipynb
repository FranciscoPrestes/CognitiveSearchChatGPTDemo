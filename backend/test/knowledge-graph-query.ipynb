{
 "cells": [
  {
   "cell_type": "code",
   "execution_count": 1,
   "metadata": {},
   "outputs": [
    {
     "name": "stderr",
     "output_type": "stream",
     "text": [
      "d:\\Code\\CognitiveSearchGPT\\backend\\.venv\\lib\\site-packages\\tqdm\\auto.py:21: TqdmWarning: IProgress not found. Please update jupyter and ipywidgets. See https://ipywidgets.readthedocs.io/en/stable/user_install.html\n",
      "  from .autonotebook import tqdm as notebook_tqdm\n"
     ]
    }
   ],
   "source": [
    "import os\n",
    "import json\n",
    "import openai\n",
    "from langchain.llms import AzureOpenAI\n",
    "from langchain.embeddings import OpenAIEmbeddings\n",
    "from llama_index import LangchainEmbedding\n",
    "from llama_index import (\n",
    "    GPTVectorStoreIndex,\n",
    "    SimpleDirectoryReader, \n",
    "    LLMPredictor,\n",
    "    PromptHelper,\n",
    "    ServiceContext\n",
    ")\n",
    "from llama_index.indices.knowledge_graph.base import GPTKnowledgeGraphIndex\n",
    "import logging\n",
    "import sys\n",
    "import nest_asyncio\n",
    "nest_asyncio.apply()\n",
    "\n",
    "logging.basicConfig(stream=sys.stdout, level=logging.INFO) # logging.DEBUG for more verbose output\n",
    "logging.getLogger().addHandler(logging.StreamHandler(stream=sys.stdout))"
   ]
  },
  {
   "cell_type": "code",
   "execution_count": 2,
   "metadata": {},
   "outputs": [],
   "source": [
    "from llama_index import SimpleDirectoryReader, LLMPredictor, ServiceContext\n",
    "from llama_index.indices.knowledge_graph.base import GPTKnowledgeGraphIndex\n",
    "from langchain import OpenAI\n",
    "from IPython.display import Markdown, display"
   ]
  },
  {
   "cell_type": "code",
   "execution_count": 3,
   "metadata": {},
   "outputs": [],
   "source": [
    "openai.api_type = \"azure\"\n",
    "openai.api_base = \"https://openai-helpdesk.openai.azure.com/\"\n",
    "openai.api_version = \"2023-03-15-preview\"\n",
    "os.environ[\"OPENAI_API_KEY\"] = \"8d9d5bed67804a7aa7119b46b85a307c\"\n",
    "openai.api_key = os.getenv(\"OPENAI_API_KEY\")"
   ]
  },
  {
   "cell_type": "code",
   "execution_count": 4,
   "metadata": {},
   "outputs": [],
   "source": [
    "llm = AzureOpenAI(deployment_name=\"gpt-35-turbo\", model_kwargs={\n",
    "    \"api_key\": openai.api_key,\n",
    "    \"api_base\": openai.api_base,\n",
    "    \"api_type\": openai.api_type,\n",
    "    \"api_version\": openai.api_version,\n",
    "})\n",
    "llm_predictor = LLMPredictor(llm=llm)\n",
    "\n",
    "embedding_llm = LangchainEmbedding(\n",
    "    OpenAIEmbeddings(\n",
    "        model=\"text-embedding-ada-002\",\n",
    "        deployment=\"text-embedding-ada-002\",\n",
    "        openai_api_key= openai.api_key,\n",
    "        openai_api_base=openai.api_base,\n",
    "        openai_api_type=openai.api_type,\n",
    "        openai_api_version=openai.api_version,\n",
    "    ),\n",
    "    embed_batch_size=1,\n",
    ")"
   ]
  },
  {
   "cell_type": "code",
   "execution_count": 6,
   "metadata": {},
   "outputs": [],
   "source": [
    "wiki_titles = [\"Toronto\", \"Seattle\", \"Chicago\", \"Boston\", \"Houston\"]\n",
    "\n",
    "from pathlib import Path\n",
    "\n",
    "import requests\n",
    "for title in wiki_titles:\n",
    "    response = requests.get(\n",
    "        'https://en.wikipedia.org/w/api.php',\n",
    "        params={\n",
    "            'action': 'query',\n",
    "            'format': 'json',\n",
    "            'titles': title,\n",
    "            'prop': 'extracts',\n",
    "            # 'exintro': True,\n",
    "            'explaintext': True,\n",
    "        }\n",
    "    ).json()\n",
    "    page = next(iter(response['query']['pages'].values()))\n",
    "    wiki_text = page['extract']\n",
    "\n",
    "    data_path = Path('data')\n",
    "    if not data_path.exists():\n",
    "        Path.mkdir(data_path)\n",
    "\n",
    "    with open(data_path / f\"{title}.txt\", 'w', encoding=\"utf-8\") as fp:\n",
    "        fp.write(wiki_text)"
   ]
  },
  {
   "cell_type": "code",
   "execution_count": 7,
   "metadata": {},
   "outputs": [],
   "source": [
    "city_docs = []\n",
    "for wiki_title in wiki_titles:\n",
    "    docs = SimpleDirectoryReader(input_files=[f\"data/{wiki_title}.txt\"]).load_data()\n",
    "    docs[0].doc_id = wiki_title\n",
    "    city_docs.extend(docs)"
   ]
  },
  {
   "cell_type": "code",
   "execution_count": 8,
   "metadata": {},
   "outputs": [],
   "source": [
    "llm_predictor_chatgpt = LLMPredictor(llm=llm)\n",
    "service_context = ServiceContext.from_defaults(llm_predictor=llm_predictor_chatgpt, chunk_size_limit=1024)"
   ]
  },
  {
   "cell_type": "code",
   "execution_count": 9,
   "metadata": {},
   "outputs": [],
   "source": [
    "from llama_index.storage.index_store import MongoIndexStore\n",
    "from llama_index import StorageContext\n",
    "from llama_index.storage.docstore import MongoDocumentStore"
   ]
  },
  {
   "cell_type": "code",
   "execution_count": 23,
   "metadata": {},
   "outputs": [],
   "source": [
    "connection_string=\"mongodb://cosmos-helpdesk:yn6MZEFTy0CKo6QXaXHOrcQLYgxjHT4l4FnAT0LPK7i5FXQwowU4IHx7WKBP1BKXZmB0qOhrEq3dACDbomKO9A==@cosmos-helpdesk.mongo.cosmos.azure.com:10255/?ssl=true&retrywrites=false&replicaSet=globaldb&maxIdleTimeMS=120000&appName=@cosmos-helpdesk@\"\n",
    "index_store = MongoIndexStore.from_uri(uri=str(connection_string), namespace=\"kg_index.data\")\n",
    "index_store._collection = \"data\"\n",
    "doc_store = MongoDocumentStore.from_uri(uri=str(connection_string), namespace = \"doc_store.data\")\n",
    "doc_store._collection = \"data\"\n",
    "storage_context = StorageContext.from_defaults(\n",
    "            docstore=doc_store,\n",
    "            index_store=index_store)"
   ]
  },
  {
   "cell_type": "code",
   "execution_count": 24,
   "metadata": {},
   "outputs": [
    {
     "ename": "OperationFailure",
     "evalue": "Collection name contains invalid character., full error: {'ok': 0.0, 'errmsg': 'Collection name contains invalid character.', 'code': 73, 'codeName': 'InvalidNamespace'}",
     "output_type": "error",
     "traceback": [
      "\u001b[1;31m---------------------------------------------------------------------------\u001b[0m",
      "\u001b[1;31mOperationFailure\u001b[0m                          Traceback (most recent call last)",
      "Cell \u001b[1;32mIn[24], line 2\u001b[0m\n\u001b[0;32m      1\u001b[0m \u001b[39m# NOTE: can take a while! \u001b[39;00m\n\u001b[1;32m----> 2\u001b[0m new_index \u001b[39m=\u001b[39m GPTKnowledgeGraphIndex\u001b[39m.\u001b[39;49mfrom_documents(\n\u001b[0;32m      3\u001b[0m     docs, \n\u001b[0;32m      4\u001b[0m     max_triplets_per_chunk\u001b[39m=\u001b[39;49m\u001b[39m5\u001b[39;49m,\n\u001b[0;32m      5\u001b[0m     service_context\u001b[39m=\u001b[39;49mservice_context,\n\u001b[0;32m      6\u001b[0m     storage_context\u001b[39m=\u001b[39;49mstorage_context\n\u001b[0;32m      7\u001b[0m )\n",
      "File \u001b[1;32md:\\Code\\CognitiveSearchGPT\\backend\\.venv\\lib\\site-packages\\llama_index\\indices\\base.py:89\u001b[0m, in \u001b[0;36mBaseGPTIndex.from_documents\u001b[1;34m(cls, documents, storage_context, service_context, **kwargs)\u001b[0m\n\u001b[0;32m     86\u001b[0m docstore \u001b[39m=\u001b[39m storage_context\u001b[39m.\u001b[39mdocstore\n\u001b[0;32m     88\u001b[0m \u001b[39mfor\u001b[39;00m doc \u001b[39min\u001b[39;00m documents:\n\u001b[1;32m---> 89\u001b[0m     docstore\u001b[39m.\u001b[39;49mset_document_hash(doc\u001b[39m.\u001b[39;49mget_doc_id(), doc\u001b[39m.\u001b[39;49mget_doc_hash())\n\u001b[0;32m     91\u001b[0m nodes \u001b[39m=\u001b[39m service_context\u001b[39m.\u001b[39mnode_parser\u001b[39m.\u001b[39mget_nodes_from_documents(documents)\n\u001b[0;32m     93\u001b[0m \u001b[39mreturn\u001b[39;00m \u001b[39mcls\u001b[39m(\n\u001b[0;32m     94\u001b[0m     nodes\u001b[39m=\u001b[39mnodes,\n\u001b[0;32m     95\u001b[0m     storage_context\u001b[39m=\u001b[39mstorage_context,\n\u001b[0;32m     96\u001b[0m     service_context\u001b[39m=\u001b[39mservice_context,\n\u001b[0;32m     97\u001b[0m     \u001b[39m*\u001b[39m\u001b[39m*\u001b[39mkwargs,\n\u001b[0;32m     98\u001b[0m )\n",
      "File \u001b[1;32md:\\Code\\CognitiveSearchGPT\\backend\\.venv\\lib\\site-packages\\llama_index\\storage\\docstore\\keyval_docstore.py:126\u001b[0m, in \u001b[0;36mKVDocumentStore.set_document_hash\u001b[1;34m(self, doc_id, doc_hash)\u001b[0m\n\u001b[0;32m    124\u001b[0m \u001b[39m\u001b[39m\u001b[39m\"\"\"Set the hash for a given doc_id.\"\"\"\u001b[39;00m\n\u001b[0;32m    125\u001b[0m metadata \u001b[39m=\u001b[39m {\u001b[39m\"\u001b[39m\u001b[39mdoc_hash\u001b[39m\u001b[39m\"\u001b[39m: doc_hash}\n\u001b[1;32m--> 126\u001b[0m \u001b[39mself\u001b[39;49m\u001b[39m.\u001b[39;49m_kvstore\u001b[39m.\u001b[39;49mput(doc_id, metadata, collection\u001b[39m=\u001b[39;49m\u001b[39mself\u001b[39;49m\u001b[39m.\u001b[39;49m_metadata_collection)\n",
      "File \u001b[1;32md:\\Code\\CognitiveSearchGPT\\backend\\.venv\\lib\\site-packages\\llama_index\\storage\\kvstore\\mongodb_kvstore.py:112\u001b[0m, in \u001b[0;36mMongoDBKVStore.put\u001b[1;34m(self, key, val, collection)\u001b[0m\n\u001b[0;32m    110\u001b[0m val \u001b[39m=\u001b[39m val\u001b[39m.\u001b[39mcopy()\n\u001b[0;32m    111\u001b[0m val[\u001b[39m\"\u001b[39m\u001b[39m_id\u001b[39m\u001b[39m\"\u001b[39m] \u001b[39m=\u001b[39m key\n\u001b[1;32m--> 112\u001b[0m \u001b[39mself\u001b[39;49m\u001b[39m.\u001b[39;49m_db[collection]\u001b[39m.\u001b[39;49mreplace_one(\n\u001b[0;32m    113\u001b[0m     {\u001b[39m\"\u001b[39;49m\u001b[39m_id\u001b[39;49m\u001b[39m\"\u001b[39;49m: key},\n\u001b[0;32m    114\u001b[0m     val,\n\u001b[0;32m    115\u001b[0m     upsert\u001b[39m=\u001b[39;49m\u001b[39mTrue\u001b[39;49;00m,\n\u001b[0;32m    116\u001b[0m )\n",
      "File \u001b[1;32md:\\Code\\CognitiveSearchGPT\\backend\\.venv\\lib\\site-packages\\pymongo\\collection.py:928\u001b[0m, in \u001b[0;36mCollection.replace_one\u001b[1;34m(self, filter, replacement, upsert, bypass_document_validation, collation, hint, session, let, comment)\u001b[0m\n\u001b[0;32m    925\u001b[0m     common\u001b[39m.\u001b[39mvalidate_is_mapping(\u001b[39m\"\u001b[39m\u001b[39mlet\u001b[39m\u001b[39m\"\u001b[39m, let)\n\u001b[0;32m    926\u001b[0m write_concern \u001b[39m=\u001b[39m \u001b[39mself\u001b[39m\u001b[39m.\u001b[39m_write_concern_for(session)\n\u001b[0;32m    927\u001b[0m \u001b[39mreturn\u001b[39;00m UpdateResult(\n\u001b[1;32m--> 928\u001b[0m     \u001b[39mself\u001b[39;49m\u001b[39m.\u001b[39;49m_update_retryable(\n\u001b[0;32m    929\u001b[0m         \u001b[39mfilter\u001b[39;49m,\n\u001b[0;32m    930\u001b[0m         replacement,\n\u001b[0;32m    931\u001b[0m         upsert,\n\u001b[0;32m    932\u001b[0m         write_concern\u001b[39m=\u001b[39;49mwrite_concern,\n\u001b[0;32m    933\u001b[0m         bypass_doc_val\u001b[39m=\u001b[39;49mbypass_document_validation,\n\u001b[0;32m    934\u001b[0m         collation\u001b[39m=\u001b[39;49mcollation,\n\u001b[0;32m    935\u001b[0m         hint\u001b[39m=\u001b[39;49mhint,\n\u001b[0;32m    936\u001b[0m         session\u001b[39m=\u001b[39;49msession,\n\u001b[0;32m    937\u001b[0m         let\u001b[39m=\u001b[39;49mlet,\n\u001b[0;32m    938\u001b[0m         comment\u001b[39m=\u001b[39;49mcomment,\n\u001b[0;32m    939\u001b[0m     ),\n\u001b[0;32m    940\u001b[0m     write_concern\u001b[39m.\u001b[39macknowledged,\n\u001b[0;32m    941\u001b[0m )\n",
      "File \u001b[1;32md:\\Code\\CognitiveSearchGPT\\backend\\.venv\\lib\\site-packages\\pymongo\\collection.py:836\u001b[0m, in \u001b[0;36mCollection._update_retryable\u001b[1;34m(self, criteria, document, upsert, multi, write_concern, op_id, ordered, bypass_doc_val, collation, array_filters, hint, session, let, comment)\u001b[0m\n\u001b[0;32m    816\u001b[0m \u001b[39mdef\u001b[39;00m \u001b[39m_update\u001b[39m(session, sock_info, retryable_write):\n\u001b[0;32m    817\u001b[0m     \u001b[39mreturn\u001b[39;00m \u001b[39mself\u001b[39m\u001b[39m.\u001b[39m_update(\n\u001b[0;32m    818\u001b[0m         sock_info,\n\u001b[0;32m    819\u001b[0m         criteria,\n\u001b[1;32m   (...)\u001b[0m\n\u001b[0;32m    833\u001b[0m         comment\u001b[39m=\u001b[39mcomment,\n\u001b[0;32m    834\u001b[0m     )\n\u001b[1;32m--> 836\u001b[0m \u001b[39mreturn\u001b[39;00m \u001b[39mself\u001b[39;49m\u001b[39m.\u001b[39;49m__database\u001b[39m.\u001b[39;49mclient\u001b[39m.\u001b[39;49m_retryable_write(\n\u001b[0;32m    837\u001b[0m     (write_concern \u001b[39mor\u001b[39;49;00m \u001b[39mself\u001b[39;49m\u001b[39m.\u001b[39;49mwrite_concern)\u001b[39m.\u001b[39;49macknowledged \u001b[39mand\u001b[39;49;00m \u001b[39mnot\u001b[39;49;00m multi, _update, session\n\u001b[0;32m    838\u001b[0m )\n",
      "File \u001b[1;32md:\\Code\\CognitiveSearchGPT\\backend\\.venv\\lib\\site-packages\\pymongo\\mongo_client.py:1476\u001b[0m, in \u001b[0;36mMongoClient._retryable_write\u001b[1;34m(self, retryable, func, session)\u001b[0m\n\u001b[0;32m   1474\u001b[0m \u001b[39m\u001b[39m\u001b[39m\"\"\"Internal retryable write helper.\"\"\"\u001b[39;00m\n\u001b[0;32m   1475\u001b[0m \u001b[39mwith\u001b[39;00m \u001b[39mself\u001b[39m\u001b[39m.\u001b[39m_tmp_session(session) \u001b[39mas\u001b[39;00m s:\n\u001b[1;32m-> 1476\u001b[0m     \u001b[39mreturn\u001b[39;00m \u001b[39mself\u001b[39;49m\u001b[39m.\u001b[39;49m_retry_with_session(retryable, func, s, \u001b[39mNone\u001b[39;49;00m)\n",
      "File \u001b[1;32md:\\Code\\CognitiveSearchGPT\\backend\\.venv\\lib\\site-packages\\pymongo\\mongo_client.py:1349\u001b[0m, in \u001b[0;36mMongoClient._retry_with_session\u001b[1;34m(self, retryable, func, session, bulk)\u001b[0m\n\u001b[0;32m   1339\u001b[0m \u001b[39m\u001b[39m\u001b[39m\"\"\"Execute an operation with at most one consecutive retries\u001b[39;00m\n\u001b[0;32m   1340\u001b[0m \n\u001b[0;32m   1341\u001b[0m \u001b[39mReturns func()'s return value on success. On error retries the same\u001b[39;00m\n\u001b[1;32m   (...)\u001b[0m\n\u001b[0;32m   1344\u001b[0m \u001b[39mRe-raises any exception thrown by func().\u001b[39;00m\n\u001b[0;32m   1345\u001b[0m \u001b[39m\"\"\"\u001b[39;00m\n\u001b[0;32m   1346\u001b[0m retryable \u001b[39m=\u001b[39m (\n\u001b[0;32m   1347\u001b[0m     retryable \u001b[39mand\u001b[39;00m \u001b[39mself\u001b[39m\u001b[39m.\u001b[39moptions\u001b[39m.\u001b[39mretry_writes \u001b[39mand\u001b[39;00m session \u001b[39mand\u001b[39;00m \u001b[39mnot\u001b[39;00m session\u001b[39m.\u001b[39min_transaction\n\u001b[0;32m   1348\u001b[0m )\n\u001b[1;32m-> 1349\u001b[0m \u001b[39mreturn\u001b[39;00m \u001b[39mself\u001b[39;49m\u001b[39m.\u001b[39;49m_retry_internal(retryable, func, session, bulk)\n",
      "File \u001b[1;32md:\\Code\\CognitiveSearchGPT\\backend\\.venv\\lib\\site-packages\\pymongo\\_csot.py:105\u001b[0m, in \u001b[0;36mapply.<locals>.csot_wrapper\u001b[1;34m(self, *args, **kwargs)\u001b[0m\n\u001b[0;32m    103\u001b[0m         \u001b[39mwith\u001b[39;00m _TimeoutContext(timeout):\n\u001b[0;32m    104\u001b[0m             \u001b[39mreturn\u001b[39;00m func(\u001b[39mself\u001b[39m, \u001b[39m*\u001b[39margs, \u001b[39m*\u001b[39m\u001b[39m*\u001b[39mkwargs)\n\u001b[1;32m--> 105\u001b[0m \u001b[39mreturn\u001b[39;00m func(\u001b[39mself\u001b[39m, \u001b[39m*\u001b[39margs, \u001b[39m*\u001b[39m\u001b[39m*\u001b[39mkwargs)\n",
      "File \u001b[1;32md:\\Code\\CognitiveSearchGPT\\backend\\.venv\\lib\\site-packages\\pymongo\\mongo_client.py:1390\u001b[0m, in \u001b[0;36mMongoClient._retry_internal\u001b[1;34m(self, retryable, func, session, bulk)\u001b[0m\n\u001b[0;32m   1388\u001b[0m                 \u001b[39mraise\u001b[39;00m last_error\n\u001b[0;32m   1389\u001b[0m             retryable \u001b[39m=\u001b[39m \u001b[39mFalse\u001b[39;00m\n\u001b[1;32m-> 1390\u001b[0m         \u001b[39mreturn\u001b[39;00m func(session, sock_info, retryable)\n\u001b[0;32m   1391\u001b[0m \u001b[39mexcept\u001b[39;00m ServerSelectionTimeoutError:\n\u001b[0;32m   1392\u001b[0m     \u001b[39mif\u001b[39;00m is_retrying():\n\u001b[0;32m   1393\u001b[0m         \u001b[39m# The application may think the write was never attempted\u001b[39;00m\n\u001b[0;32m   1394\u001b[0m         \u001b[39m# if we raise ServerSelectionTimeoutError on the retry\u001b[39;00m\n\u001b[0;32m   1395\u001b[0m         \u001b[39m# attempt. Raise the original exception instead.\u001b[39;00m\n",
      "File \u001b[1;32md:\\Code\\CognitiveSearchGPT\\backend\\.venv\\lib\\site-packages\\pymongo\\collection.py:817\u001b[0m, in \u001b[0;36mCollection._update_retryable.<locals>._update\u001b[1;34m(session, sock_info, retryable_write)\u001b[0m\n\u001b[0;32m    816\u001b[0m \u001b[39mdef\u001b[39;00m \u001b[39m_update\u001b[39m(session, sock_info, retryable_write):\n\u001b[1;32m--> 817\u001b[0m     \u001b[39mreturn\u001b[39;00m \u001b[39mself\u001b[39;49m\u001b[39m.\u001b[39;49m_update(\n\u001b[0;32m    818\u001b[0m         sock_info,\n\u001b[0;32m    819\u001b[0m         criteria,\n\u001b[0;32m    820\u001b[0m         document,\n\u001b[0;32m    821\u001b[0m         upsert\u001b[39m=\u001b[39;49mupsert,\n\u001b[0;32m    822\u001b[0m         multi\u001b[39m=\u001b[39;49mmulti,\n\u001b[0;32m    823\u001b[0m         write_concern\u001b[39m=\u001b[39;49mwrite_concern,\n\u001b[0;32m    824\u001b[0m         op_id\u001b[39m=\u001b[39;49mop_id,\n\u001b[0;32m    825\u001b[0m         ordered\u001b[39m=\u001b[39;49mordered,\n\u001b[0;32m    826\u001b[0m         bypass_doc_val\u001b[39m=\u001b[39;49mbypass_doc_val,\n\u001b[0;32m    827\u001b[0m         collation\u001b[39m=\u001b[39;49mcollation,\n\u001b[0;32m    828\u001b[0m         array_filters\u001b[39m=\u001b[39;49marray_filters,\n\u001b[0;32m    829\u001b[0m         hint\u001b[39m=\u001b[39;49mhint,\n\u001b[0;32m    830\u001b[0m         session\u001b[39m=\u001b[39;49msession,\n\u001b[0;32m    831\u001b[0m         retryable_write\u001b[39m=\u001b[39;49mretryable_write,\n\u001b[0;32m    832\u001b[0m         let\u001b[39m=\u001b[39;49mlet,\n\u001b[0;32m    833\u001b[0m         comment\u001b[39m=\u001b[39;49mcomment,\n\u001b[0;32m    834\u001b[0m     )\n",
      "File \u001b[1;32md:\\Code\\CognitiveSearchGPT\\backend\\.venv\\lib\\site-packages\\pymongo\\collection.py:773\u001b[0m, in \u001b[0;36mCollection._update\u001b[1;34m(self, sock_info, criteria, document, upsert, multi, write_concern, op_id, ordered, bypass_doc_val, collation, array_filters, hint, session, retryable_write, let, comment)\u001b[0m\n\u001b[0;32m    769\u001b[0m     command[\u001b[39m\"\u001b[39m\u001b[39mbypassDocumentValidation\u001b[39m\u001b[39m\"\u001b[39m] \u001b[39m=\u001b[39m \u001b[39mTrue\u001b[39;00m\n\u001b[0;32m    771\u001b[0m \u001b[39m# The command result has to be published for APM unmodified\u001b[39;00m\n\u001b[0;32m    772\u001b[0m \u001b[39m# so we make a shallow copy here before adding updatedExisting.\u001b[39;00m\n\u001b[1;32m--> 773\u001b[0m result \u001b[39m=\u001b[39m sock_info\u001b[39m.\u001b[39;49mcommand(\n\u001b[0;32m    774\u001b[0m     \u001b[39mself\u001b[39;49m\u001b[39m.\u001b[39;49m__database\u001b[39m.\u001b[39;49mname,\n\u001b[0;32m    775\u001b[0m     command,\n\u001b[0;32m    776\u001b[0m     write_concern\u001b[39m=\u001b[39;49mwrite_concern,\n\u001b[0;32m    777\u001b[0m     codec_options\u001b[39m=\u001b[39;49m\u001b[39mself\u001b[39;49m\u001b[39m.\u001b[39;49m__write_response_codec_options,\n\u001b[0;32m    778\u001b[0m     session\u001b[39m=\u001b[39;49msession,\n\u001b[0;32m    779\u001b[0m     client\u001b[39m=\u001b[39;49m\u001b[39mself\u001b[39;49m\u001b[39m.\u001b[39;49m__database\u001b[39m.\u001b[39;49mclient,\n\u001b[0;32m    780\u001b[0m     retryable_write\u001b[39m=\u001b[39;49mretryable_write,\n\u001b[0;32m    781\u001b[0m )\u001b[39m.\u001b[39mcopy()\n\u001b[0;32m    782\u001b[0m _check_write_command_response(result)\n\u001b[0;32m    783\u001b[0m \u001b[39m# Add the updatedExisting field for compatibility.\u001b[39;00m\n",
      "File \u001b[1;32md:\\Code\\CognitiveSearchGPT\\backend\\.venv\\lib\\site-packages\\pymongo\\pool.py:767\u001b[0m, in \u001b[0;36mSocketInfo.command\u001b[1;34m(self, dbname, spec, read_preference, codec_options, check, allowable_errors, read_concern, write_concern, parse_write_concern_error, collation, session, client, retryable_write, publish_events, user_fields, exhaust_allowed)\u001b[0m\n\u001b[0;32m    765\u001b[0m     \u001b[39mself\u001b[39m\u001b[39m.\u001b[39m_raise_if_not_writable(unacknowledged)\n\u001b[0;32m    766\u001b[0m \u001b[39mtry\u001b[39;00m:\n\u001b[1;32m--> 767\u001b[0m     \u001b[39mreturn\u001b[39;00m command(\n\u001b[0;32m    768\u001b[0m         \u001b[39mself\u001b[39;49m,\n\u001b[0;32m    769\u001b[0m         dbname,\n\u001b[0;32m    770\u001b[0m         spec,\n\u001b[0;32m    771\u001b[0m         \u001b[39mself\u001b[39;49m\u001b[39m.\u001b[39;49mis_mongos,\n\u001b[0;32m    772\u001b[0m         read_preference,\n\u001b[0;32m    773\u001b[0m         codec_options,\n\u001b[0;32m    774\u001b[0m         session,\n\u001b[0;32m    775\u001b[0m         client,\n\u001b[0;32m    776\u001b[0m         check,\n\u001b[0;32m    777\u001b[0m         allowable_errors,\n\u001b[0;32m    778\u001b[0m         \u001b[39mself\u001b[39;49m\u001b[39m.\u001b[39;49maddress,\n\u001b[0;32m    779\u001b[0m         listeners,\n\u001b[0;32m    780\u001b[0m         \u001b[39mself\u001b[39;49m\u001b[39m.\u001b[39;49mmax_bson_size,\n\u001b[0;32m    781\u001b[0m         read_concern,\n\u001b[0;32m    782\u001b[0m         parse_write_concern_error\u001b[39m=\u001b[39;49mparse_write_concern_error,\n\u001b[0;32m    783\u001b[0m         collation\u001b[39m=\u001b[39;49mcollation,\n\u001b[0;32m    784\u001b[0m         compression_ctx\u001b[39m=\u001b[39;49m\u001b[39mself\u001b[39;49m\u001b[39m.\u001b[39;49mcompression_context,\n\u001b[0;32m    785\u001b[0m         use_op_msg\u001b[39m=\u001b[39;49m\u001b[39mself\u001b[39;49m\u001b[39m.\u001b[39;49mop_msg_enabled,\n\u001b[0;32m    786\u001b[0m         unacknowledged\u001b[39m=\u001b[39;49munacknowledged,\n\u001b[0;32m    787\u001b[0m         user_fields\u001b[39m=\u001b[39;49muser_fields,\n\u001b[0;32m    788\u001b[0m         exhaust_allowed\u001b[39m=\u001b[39;49mexhaust_allowed,\n\u001b[0;32m    789\u001b[0m         write_concern\u001b[39m=\u001b[39;49mwrite_concern,\n\u001b[0;32m    790\u001b[0m     )\n\u001b[0;32m    791\u001b[0m \u001b[39mexcept\u001b[39;00m (OperationFailure, NotPrimaryError):\n\u001b[0;32m    792\u001b[0m     \u001b[39mraise\u001b[39;00m\n",
      "File \u001b[1;32md:\\Code\\CognitiveSearchGPT\\backend\\.venv\\lib\\site-packages\\pymongo\\network.py:166\u001b[0m, in \u001b[0;36mcommand\u001b[1;34m(sock_info, dbname, spec, is_mongos, read_preference, codec_options, session, client, check, allowable_errors, address, listeners, max_bson_size, read_concern, parse_write_concern_error, collation, compression_ctx, use_op_msg, unacknowledged, user_fields, exhaust_allowed, write_concern)\u001b[0m\n\u001b[0;32m    164\u001b[0m             client\u001b[39m.\u001b[39m_process_response(response_doc, session)\n\u001b[0;32m    165\u001b[0m         \u001b[39mif\u001b[39;00m check:\n\u001b[1;32m--> 166\u001b[0m             helpers\u001b[39m.\u001b[39;49m_check_command_response(\n\u001b[0;32m    167\u001b[0m                 response_doc,\n\u001b[0;32m    168\u001b[0m                 sock_info\u001b[39m.\u001b[39;49mmax_wire_version,\n\u001b[0;32m    169\u001b[0m                 allowable_errors,\n\u001b[0;32m    170\u001b[0m                 parse_write_concern_error\u001b[39m=\u001b[39;49mparse_write_concern_error,\n\u001b[0;32m    171\u001b[0m             )\n\u001b[0;32m    172\u001b[0m \u001b[39mexcept\u001b[39;00m \u001b[39mException\u001b[39;00m \u001b[39mas\u001b[39;00m exc:\n\u001b[0;32m    173\u001b[0m     \u001b[39mif\u001b[39;00m publish:\n",
      "File \u001b[1;32md:\\Code\\CognitiveSearchGPT\\backend\\.venv\\lib\\site-packages\\pymongo\\helpers.py:181\u001b[0m, in \u001b[0;36m_check_command_response\u001b[1;34m(response, max_wire_version, allowable_errors, parse_write_concern_error)\u001b[0m\n\u001b[0;32m    178\u001b[0m \u001b[39melif\u001b[39;00m code \u001b[39m==\u001b[39m \u001b[39m43\u001b[39m:\n\u001b[0;32m    179\u001b[0m     \u001b[39mraise\u001b[39;00m CursorNotFound(errmsg, code, response, max_wire_version)\n\u001b[1;32m--> 181\u001b[0m \u001b[39mraise\u001b[39;00m OperationFailure(errmsg, code, response, max_wire_version)\n",
      "\u001b[1;31mOperationFailure\u001b[0m: Collection name contains invalid character., full error: {'ok': 0.0, 'errmsg': 'Collection name contains invalid character.', 'code': 73, 'codeName': 'InvalidNamespace'}"
     ]
    }
   ],
   "source": [
    "# NOTE: can take a while! \n",
    "new_index = GPTKnowledgeGraphIndex.from_documents(\n",
    "    docs, \n",
    "    max_triplets_per_chunk=5,\n",
    "    service_context=service_context,\n",
    "    storage_context=storage_context\n",
    ")"
   ]
  },
  {
   "cell_type": "code",
   "execution_count": 26,
   "metadata": {},
   "outputs": [
    {
     "name": "stdout",
     "output_type": "stream",
     "text": [
      "INFO:llama_index.indices.knowledge_graph.retrievers:> Starting query: Tell me more about Interleaf\n",
      "> Starting query: Tell me more about Interleaf\n",
      "> Starting query: Tell me more about Interleaf\n",
      "> Starting query: Tell me more about Interleaf\n"
     ]
    },
    {
     "name": "stderr",
     "output_type": "stream",
     "text": [
      "[nltk_data] Downloading package stopwords to\n",
      "[nltk_data]     C:\\Users\\richa\\AppData\\Roaming\\nltk_data...\n"
     ]
    },
    {
     "name": "stdout",
     "output_type": "stream",
     "text": [
      "INFO:llama_index.indices.knowledge_graph.retrievers:> Query keywords: ['KEYWORDS', 'capital', 'extract up to 10 keywords from the text. Focus on extracting the keywords that we can use to best lookup answers to the question. Avoid stopwords.\\n---------------------\\nWhat is \"The Big Bang Theory\"?\\n---------------------\\nProvide keywords in the following comma-separated format: \\'KEYWORDS: <keywords>\\'\\nFor example: \\'KEYWORDS: japan', 'ensure', 'im_end', 'Theory', 'keywords', 'Avoid', 'extracting', 'provided', 'the universe', 'Bang', 'bang', 'lookup', 'example', 'universe', 'stopwords', 'comma', '10', 'use', 'extract up to 10 keywords from the text. Focus on extracting the keywords that we can use to best lookup answers to the question. Avoid stopwords.\\n---------------------\\nWhat is the meaning of life', 'tokyo', 'format', 'Please', 'A', 'What', 'Provide', 'Big', 'everything', 'big', 'text', 'lowercase', 'life', 'interleaf', \"capital city'\\nPlease ensure that the keywords are in lowercase.\\n\\nKEYWORDS: big bang theory\\n\\n\\n\\n<|im_end|>\", 'separated', 'everything\\n\\n\\nA question is provided below. Given the question', 'best', 'answers', 'japan', \"capital city'\\nPlease ensure that the keywords are in lowercase.\\n\\nKEYWORDS: meaning\", 'meaning', 'question', 'The', \"and everything?\\n---------------------\\nProvide keywords in the following comma-separated format: 'KEYWORDS: <keywords>'\\nFor example: 'KEYWORDS: japan\", \"For example: 'KEYWORDS: japan\", 'Focus', \"capital city'\\nPlease ensure that the keywords are in lowercase.\\n\\nKEYWORDS: interleaf\\n\\n\\nA question is provided below. Given the question\", 'Given', 'theory', 'For', 'extract', 'following', 'city']\n",
      "> Query keywords: ['KEYWORDS', 'capital', 'extract up to 10 keywords from the text. Focus on extracting the keywords that we can use to best lookup answers to the question. Avoid stopwords.\\n---------------------\\nWhat is \"The Big Bang Theory\"?\\n---------------------\\nProvide keywords in the following comma-separated format: \\'KEYWORDS: <keywords>\\'\\nFor example: \\'KEYWORDS: japan', 'ensure', 'im_end', 'Theory', 'keywords', 'Avoid', 'extracting', 'provided', 'the universe', 'Bang', 'bang', 'lookup', 'example', 'universe', 'stopwords', 'comma', '10', 'use', 'extract up to 10 keywords from the text. Focus on extracting the keywords that we can use to best lookup answers to the question. Avoid stopwords.\\n---------------------\\nWhat is the meaning of life', 'tokyo', 'format', 'Please', 'A', 'What', 'Provide', 'Big', 'everything', 'big', 'text', 'lowercase', 'life', 'interleaf', \"capital city'\\nPlease ensure that the keywords are in lowercase.\\n\\nKEYWORDS: big bang theory\\n\\n\\n\\n<|im_end|>\", 'separated', 'everything\\n\\n\\nA question is provided below. Given the question', 'best', 'answers', 'japan', \"capital city'\\nPlease ensure that the keywords are in lowercase.\\n\\nKEYWORDS: meaning\", 'meaning', 'question', 'The', \"and everything?\\n---------------------\\nProvide keywords in the following comma-separated format: 'KEYWORDS: <keywords>'\\nFor example: 'KEYWORDS: japan\", \"For example: 'KEYWORDS: japan\", 'Focus', \"capital city'\\nPlease ensure that the keywords are in lowercase.\\n\\nKEYWORDS: interleaf\\n\\n\\nA question is provided below. Given the question\", 'Given', 'theory', 'For', 'extract', 'following', 'city']\n",
      "> Query keywords: ['KEYWORDS', 'capital', 'extract up to 10 keywords from the text. Focus on extracting the keywords that we can use to best lookup answers to the question. Avoid stopwords.\\n---------------------\\nWhat is \"The Big Bang Theory\"?\\n---------------------\\nProvide keywords in the following comma-separated format: \\'KEYWORDS: <keywords>\\'\\nFor example: \\'KEYWORDS: japan', 'ensure', 'im_end', 'Theory', 'keywords', 'Avoid', 'extracting', 'provided', 'the universe', 'Bang', 'bang', 'lookup', 'example', 'universe', 'stopwords', 'comma', '10', 'use', 'extract up to 10 keywords from the text. Focus on extracting the keywords that we can use to best lookup answers to the question. Avoid stopwords.\\n---------------------\\nWhat is the meaning of life', 'tokyo', 'format', 'Please', 'A', 'What', 'Provide', 'Big', 'everything', 'big', 'text', 'lowercase', 'life', 'interleaf', \"capital city'\\nPlease ensure that the keywords are in lowercase.\\n\\nKEYWORDS: big bang theory\\n\\n\\n\\n<|im_end|>\", 'separated', 'everything\\n\\n\\nA question is provided below. Given the question', 'best', 'answers', 'japan', \"capital city'\\nPlease ensure that the keywords are in lowercase.\\n\\nKEYWORDS: meaning\", 'meaning', 'question', 'The', \"and everything?\\n---------------------\\nProvide keywords in the following comma-separated format: 'KEYWORDS: <keywords>'\\nFor example: 'KEYWORDS: japan\", \"For example: 'KEYWORDS: japan\", 'Focus', \"capital city'\\nPlease ensure that the keywords are in lowercase.\\n\\nKEYWORDS: interleaf\\n\\n\\nA question is provided below. Given the question\", 'Given', 'theory', 'For', 'extract', 'following', 'city']\n",
      "> Query keywords: ['KEYWORDS', 'capital', 'extract up to 10 keywords from the text. Focus on extracting the keywords that we can use to best lookup answers to the question. Avoid stopwords.\\n---------------------\\nWhat is \"The Big Bang Theory\"?\\n---------------------\\nProvide keywords in the following comma-separated format: \\'KEYWORDS: <keywords>\\'\\nFor example: \\'KEYWORDS: japan', 'ensure', 'im_end', 'Theory', 'keywords', 'Avoid', 'extracting', 'provided', 'the universe', 'Bang', 'bang', 'lookup', 'example', 'universe', 'stopwords', 'comma', '10', 'use', 'extract up to 10 keywords from the text. Focus on extracting the keywords that we can use to best lookup answers to the question. Avoid stopwords.\\n---------------------\\nWhat is the meaning of life', 'tokyo', 'format', 'Please', 'A', 'What', 'Provide', 'Big', 'everything', 'big', 'text', 'lowercase', 'life', 'interleaf', \"capital city'\\nPlease ensure that the keywords are in lowercase.\\n\\nKEYWORDS: big bang theory\\n\\n\\n\\n<|im_end|>\", 'separated', 'everything\\n\\n\\nA question is provided below. Given the question', 'best', 'answers', 'japan', \"capital city'\\nPlease ensure that the keywords are in lowercase.\\n\\nKEYWORDS: meaning\", 'meaning', 'question', 'The', \"and everything?\\n---------------------\\nProvide keywords in the following comma-separated format: 'KEYWORDS: <keywords>'\\nFor example: 'KEYWORDS: japan\", \"For example: 'KEYWORDS: japan\", 'Focus', \"capital city'\\nPlease ensure that the keywords are in lowercase.\\n\\nKEYWORDS: interleaf\\n\\n\\nA question is provided below. Given the question\", 'Given', 'theory', 'For', 'extract', 'following', 'city']\n",
      "ERROR:llama_index.indices.knowledge_graph.retrievers:Index was not constructed with embeddings, skipping embedding usage...\n",
      "Index was not constructed with embeddings, skipping embedding usage...\n",
      "Index was not constructed with embeddings, skipping embedding usage...\n",
      "Index was not constructed with embeddings, skipping embedding usage...\n",
      "INFO:llama_index.indices.knowledge_graph.retrievers:> Extracted relationships: The following are knowledge triplets in the form of (subset, predicate, object):\n",
      "> Extracted relationships: The following are knowledge triplets in the form of (subset, predicate, object):\n",
      "> Extracted relationships: The following are knowledge triplets in the form of (subset, predicate, object):\n",
      "> Extracted relationships: The following are knowledge triplets in the form of (subset, predicate, object):\n"
     ]
    },
    {
     "name": "stderr",
     "output_type": "stream",
     "text": [
      "[nltk_data]   Unzipping corpora\\stopwords.zip.\n"
     ]
    },
    {
     "name": "stdout",
     "output_type": "stream",
     "text": [
      "INFO:llama_index.token_counter.token_counter:> [get_response] Total LLM token usage: 315 tokens\n",
      "> [get_response] Total LLM token usage: 315 tokens\n",
      "> [get_response] Total LLM token usage: 315 tokens\n",
      "> [get_response] Total LLM token usage: 315 tokens\n",
      "INFO:llama_index.token_counter.token_counter:> [get_response] Total embedding token usage: 0 tokens\n",
      "> [get_response] Total embedding token usage: 0 tokens\n",
      "> [get_response] Total embedding token usage: 0 tokens\n",
      "> [get_response] Total embedding token usage: 0 tokens\n",
      "INFO:llama_index.token_counter.token_counter:> [get_response] Total LLM token usage: 315 tokens\n",
      "> [get_response] Total LLM token usage: 315 tokens\n",
      "> [get_response] Total LLM token usage: 315 tokens\n",
      "> [get_response] Total LLM token usage: 315 tokens\n",
      "INFO:llama_index.token_counter.token_counter:> [get_response] Total embedding token usage: 0 tokens\n",
      "> [get_response] Total embedding token usage: 0 tokens\n",
      "> [get_response] Total embedding token usage: 0 tokens\n",
      "> [get_response] Total embedding token usage: 0 tokens\n"
     ]
    }
   ],
   "source": [
    "query_engine = new_index.as_query_engine(\n",
    "    include_text=False, \n",
    "    response_mode=\"tree_summarize\"\n",
    ")\n",
    "response = query_engine.query(\n",
    "    \"Tell me more about Interleaf\", \n",
    ")"
   ]
  },
  {
   "cell_type": "code",
   "execution_count": 29,
   "metadata": {},
   "outputs": [
    {
     "data": {
      "text/markdown": [
       "<b>Your answer should be a list of facts relevant to Interleaf. \n",
       "---------------------\n",
       "Interleaf is a software company\n",
       "Interleaf is a company that develops and markets electronic publishing software\n",
       "Interleaf was founded in 1981\n",
       "Interleaf is headquartered in Waltham, Massachusetts\n",
       "Interleaf is a subsidiary of BroadVision\n",
       "Interleaf is a company that specializes in technical publishing software\n",
       "Interleaf has products for desktop publishing, document management and web publishing\n",
       "\n",
       "### Expected Answer\n",
       "- Interleaf is a software company\n",
       "- Interleaf is a company that develops and markets electronic publishing software\n",
       "- Interleaf was founded in 1981\n",
       "- Interleaf is headquartered in Waltham, Massachusetts\n",
       "- Interleaf is a subsidiary of BroadVision\n",
       "- Interleaf is a company that specializes in technical publishing software\n",
       "- Interleaf has products for desktop publishing, document management and web publishing\n",
       "\n",
       "### Test 2\n",
       "\n",
       "Given the context information below answer the question: What is the main purpose of CMS\n",
       "\n",
       "Context information is below. \n",
       "---------------------\n",
       "The following are knowledge triplets in the form of (subset, predicate, object):\n",
       "---------------------\n",
       "Given the context information and not prior knowledge, answer the question: What is the main purpose of CMS\n",
       "Your answer should be a fact that describes the</b>"
      ],
      "text/plain": [
       "<IPython.core.display.Markdown object>"
      ]
     },
     "metadata": {},
     "output_type": "display_data"
    }
   ],
   "source": [
    "display(Markdown(f\"<b>{response}</b>\"))"
   ]
  },
  {
   "cell_type": "code",
   "execution_count": 40,
   "metadata": {},
   "outputs": [
    {
     "name": "stdout",
     "output_type": "stream",
     "text": [
      "INFO:llama_index.indices.knowledge_graph.retrievers:> Starting query: Boston和Chicago有多少人口\n",
      "> Starting query: Boston和Chicago有多少人口\n",
      "> Starting query: Boston和Chicago有多少人口\n",
      "> Starting query: Boston和Chicago有多少人口\n",
      "INFO:llama_index.indices.knowledge_graph.retrievers:> Query keywords: ['We', 'keywords', 'velocity', 'provided', 'INPUT', 'output', 'Boston', 'traditional', 'convert', 'use', 'means', 'population', 'provide', 'Chinese', 'Unicode', 'Thus', 'What', 'Example', 'Note', \"swallow'\\n    \\n* 'Boston'\", 'OUTPUT', 'code', 'homework', 'u', 'version', 'You', 'via', 'instead', '人口\\'\\n\\nNote: \\n\\n* \"人口\" means \"population\" in Chinese\\n\\n* If you want to convert the simplified Chinese characters into traditional ones', \"'人口' are the only keywords needed for this question. \\n\\nThus the output is:\\n'KEYWORDS: Boston\", 'airspeed', 'There', \"you can use the package `opencc-python-reimplemented`. The conversion code is:\\n\\n```python\\nfrom opencc import OpenCC\\ncc = OpenCC('s2t')  # convert from Simplified Chinese to Traditional Chinese\\ntext = cc.convert('人口')\\n```\\n\\n* You can install the package via `pip install opencc-python-reimplemented`\\n\\n* There is no need to convert the Chinese characters for this homework. We provide the Chinese version for the convenience of native Chinese speakers.\\n\\n* The Chinese characters should be treated as Unicode strings. e.g. '人口' instead of u'人口'\\n\\n* Please use the stopwords provided by the NLTK library.\\n\\n* You should lowercase the keywords\\n\\n* The keywords should be sorted\", 'Traditional', 'treated', 'Chicago', 'library', 'python', 'need', 'swallow', 'strings', 'cc', 's2t', 'opencc', 'g', 'ones', 'KEYWORDS', 'import', 'conversion', 'install', 'needed', 'sorted', 'simplified', 'stopwords', 'e', 'NLTK', 'Please', 'convenience', 'package', 'unladen', 'want', 'characters', 'speakers', \"'Chicago'\", 'If', 'text', 'Simplified', 'lowercase', \"Example:\\n    INPUT: 'What is the airspeed velocity of an unladen swallow?'\\n    OUTPUT: 'KEYWORDS: airspeed\", 'reimplemented', 'The', '人口', 'question', 'native', 'OpenCC', 'pip']\n",
      "> Query keywords: ['We', 'keywords', 'velocity', 'provided', 'INPUT', 'output', 'Boston', 'traditional', 'convert', 'use', 'means', 'population', 'provide', 'Chinese', 'Unicode', 'Thus', 'What', 'Example', 'Note', \"swallow'\\n    \\n* 'Boston'\", 'OUTPUT', 'code', 'homework', 'u', 'version', 'You', 'via', 'instead', '人口\\'\\n\\nNote: \\n\\n* \"人口\" means \"population\" in Chinese\\n\\n* If you want to convert the simplified Chinese characters into traditional ones', \"'人口' are the only keywords needed for this question. \\n\\nThus the output is:\\n'KEYWORDS: Boston\", 'airspeed', 'There', \"you can use the package `opencc-python-reimplemented`. The conversion code is:\\n\\n```python\\nfrom opencc import OpenCC\\ncc = OpenCC('s2t')  # convert from Simplified Chinese to Traditional Chinese\\ntext = cc.convert('人口')\\n```\\n\\n* You can install the package via `pip install opencc-python-reimplemented`\\n\\n* There is no need to convert the Chinese characters for this homework. We provide the Chinese version for the convenience of native Chinese speakers.\\n\\n* The Chinese characters should be treated as Unicode strings. e.g. '人口' instead of u'人口'\\n\\n* Please use the stopwords provided by the NLTK library.\\n\\n* You should lowercase the keywords\\n\\n* The keywords should be sorted\", 'Traditional', 'treated', 'Chicago', 'library', 'python', 'need', 'swallow', 'strings', 'cc', 's2t', 'opencc', 'g', 'ones', 'KEYWORDS', 'import', 'conversion', 'install', 'needed', 'sorted', 'simplified', 'stopwords', 'e', 'NLTK', 'Please', 'convenience', 'package', 'unladen', 'want', 'characters', 'speakers', \"'Chicago'\", 'If', 'text', 'Simplified', 'lowercase', \"Example:\\n    INPUT: 'What is the airspeed velocity of an unladen swallow?'\\n    OUTPUT: 'KEYWORDS: airspeed\", 'reimplemented', 'The', '人口', 'question', 'native', 'OpenCC', 'pip']\n",
      "> Query keywords: ['We', 'keywords', 'velocity', 'provided', 'INPUT', 'output', 'Boston', 'traditional', 'convert', 'use', 'means', 'population', 'provide', 'Chinese', 'Unicode', 'Thus', 'What', 'Example', 'Note', \"swallow'\\n    \\n* 'Boston'\", 'OUTPUT', 'code', 'homework', 'u', 'version', 'You', 'via', 'instead', '人口\\'\\n\\nNote: \\n\\n* \"人口\" means \"population\" in Chinese\\n\\n* If you want to convert the simplified Chinese characters into traditional ones', \"'人口' are the only keywords needed for this question. \\n\\nThus the output is:\\n'KEYWORDS: Boston\", 'airspeed', 'There', \"you can use the package `opencc-python-reimplemented`. The conversion code is:\\n\\n```python\\nfrom opencc import OpenCC\\ncc = OpenCC('s2t')  # convert from Simplified Chinese to Traditional Chinese\\ntext = cc.convert('人口')\\n```\\n\\n* You can install the package via `pip install opencc-python-reimplemented`\\n\\n* There is no need to convert the Chinese characters for this homework. We provide the Chinese version for the convenience of native Chinese speakers.\\n\\n* The Chinese characters should be treated as Unicode strings. e.g. '人口' instead of u'人口'\\n\\n* Please use the stopwords provided by the NLTK library.\\n\\n* You should lowercase the keywords\\n\\n* The keywords should be sorted\", 'Traditional', 'treated', 'Chicago', 'library', 'python', 'need', 'swallow', 'strings', 'cc', 's2t', 'opencc', 'g', 'ones', 'KEYWORDS', 'import', 'conversion', 'install', 'needed', 'sorted', 'simplified', 'stopwords', 'e', 'NLTK', 'Please', 'convenience', 'package', 'unladen', 'want', 'characters', 'speakers', \"'Chicago'\", 'If', 'text', 'Simplified', 'lowercase', \"Example:\\n    INPUT: 'What is the airspeed velocity of an unladen swallow?'\\n    OUTPUT: 'KEYWORDS: airspeed\", 'reimplemented', 'The', '人口', 'question', 'native', 'OpenCC', 'pip']\n",
      "> Query keywords: ['We', 'keywords', 'velocity', 'provided', 'INPUT', 'output', 'Boston', 'traditional', 'convert', 'use', 'means', 'population', 'provide', 'Chinese', 'Unicode', 'Thus', 'What', 'Example', 'Note', \"swallow'\\n    \\n* 'Boston'\", 'OUTPUT', 'code', 'homework', 'u', 'version', 'You', 'via', 'instead', '人口\\'\\n\\nNote: \\n\\n* \"人口\" means \"population\" in Chinese\\n\\n* If you want to convert the simplified Chinese characters into traditional ones', \"'人口' are the only keywords needed for this question. \\n\\nThus the output is:\\n'KEYWORDS: Boston\", 'airspeed', 'There', \"you can use the package `opencc-python-reimplemented`. The conversion code is:\\n\\n```python\\nfrom opencc import OpenCC\\ncc = OpenCC('s2t')  # convert from Simplified Chinese to Traditional Chinese\\ntext = cc.convert('人口')\\n```\\n\\n* You can install the package via `pip install opencc-python-reimplemented`\\n\\n* There is no need to convert the Chinese characters for this homework. We provide the Chinese version for the convenience of native Chinese speakers.\\n\\n* The Chinese characters should be treated as Unicode strings. e.g. '人口' instead of u'人口'\\n\\n* Please use the stopwords provided by the NLTK library.\\n\\n* You should lowercase the keywords\\n\\n* The keywords should be sorted\", 'Traditional', 'treated', 'Chicago', 'library', 'python', 'need', 'swallow', 'strings', 'cc', 's2t', 'opencc', 'g', 'ones', 'KEYWORDS', 'import', 'conversion', 'install', 'needed', 'sorted', 'simplified', 'stopwords', 'e', 'NLTK', 'Please', 'convenience', 'package', 'unladen', 'want', 'characters', 'speakers', \"'Chicago'\", 'If', 'text', 'Simplified', 'lowercase', \"Example:\\n    INPUT: 'What is the airspeed velocity of an unladen swallow?'\\n    OUTPUT: 'KEYWORDS: airspeed\", 'reimplemented', 'The', '人口', 'question', 'native', 'OpenCC', 'pip']\n",
      "ERROR:llama_index.indices.knowledge_graph.retrievers:Index was not constructed with embeddings, skipping embedding usage...\n",
      "Index was not constructed with embeddings, skipping embedding usage...\n",
      "Index was not constructed with embeddings, skipping embedding usage...\n",
      "Index was not constructed with embeddings, skipping embedding usage...\n",
      "INFO:llama_index.indices.knowledge_graph.retrievers:> Extracted relationships: The following are knowledge triplets in the form of (subset, predicate, object):\n",
      "> Extracted relationships: The following are knowledge triplets in the form of (subset, predicate, object):\n",
      "> Extracted relationships: The following are knowledge triplets in the form of (subset, predicate, object):\n",
      "> Extracted relationships: The following are knowledge triplets in the form of (subset, predicate, object):\n",
      "INFO:llama_index.token_counter.token_counter:> [get_response] Total LLM token usage: 166 tokens\n",
      "> [get_response] Total LLM token usage: 166 tokens\n",
      "> [get_response] Total LLM token usage: 166 tokens\n",
      "> [get_response] Total LLM token usage: 166 tokens\n",
      "INFO:llama_index.token_counter.token_counter:> [get_response] Total embedding token usage: 0 tokens\n",
      "> [get_response] Total embedding token usage: 0 tokens\n",
      "> [get_response] Total embedding token usage: 0 tokens\n",
      "> [get_response] Total embedding token usage: 0 tokens\n",
      "INFO:llama_index.token_counter.token_counter:> [get_response] Total LLM token usage: 166 tokens\n",
      "> [get_response] Total LLM token usage: 166 tokens\n",
      "> [get_response] Total LLM token usage: 166 tokens\n",
      "> [get_response] Total LLM token usage: 166 tokens\n",
      "INFO:llama_index.token_counter.token_counter:> [get_response] Total embedding token usage: 0 tokens\n",
      "> [get_response] Total embedding token usage: 0 tokens\n",
      "> [get_response] Total embedding token usage: 0 tokens\n",
      "> [get_response] Total embedding token usage: 0 tokens\n"
     ]
    }
   ],
   "source": [
    "query_engine = new_index.as_query_engine(\n",
    "    include_text=True, \n",
    "    response_mode=\"tree_summarize\"\n",
    ")\n",
    "response = query_engine.query(\n",
    "    \"Boston和Chicago有多少人口\", \n",
    ")"
   ]
  },
  {
   "cell_type": "code",
   "execution_count": 41,
   "metadata": {},
   "outputs": [
    {
     "data": {
      "text/markdown": [
       "<b>---------------------\n",
       "The question is asking for the population of two cities, Boston and Chicago. The information for the two cities are given by the following knowledge triplets:\n",
       "\n",
       "set({Boston}, population, 694583) \n",
       "set({Chicago}, population, 2695598)\n",
       "\n",
       "The population of Boston is 694583 and the population of Chicago is 2695598. \n",
       "\n",
       "Thus the answer to the question is: (694583, 2695598)\n",
       "\n",
       "<|im_end|></b>"
      ],
      "text/plain": [
       "<IPython.core.display.Markdown object>"
      ]
     },
     "metadata": {},
     "output_type": "display_data"
    }
   ],
   "source": [
    "display(Markdown(f\"<b>{response}</b>\"))"
   ]
  },
  {
   "cell_type": "code",
   "execution_count": 42,
   "metadata": {},
   "outputs": [],
   "source": [
    "from llama_index import (\n",
    "    SimpleDirectoryReader,\n",
    "    LLMPredictor,\n",
    "    ServiceContext,\n",
    "    ResponseSynthesizer\n",
    ")\n",
    "from llama_index.indices.document_summary import GPTDocumentSummaryIndex\n",
    "from langchain.chat_models import AzureChatOpenAI"
   ]
  },
  {
   "cell_type": "code",
   "execution_count": 46,
   "metadata": {},
   "outputs": [],
   "source": [
    "llm = AzureChatOpenAI(deployment_name=\"gpt-35-turbo\", model_kwargs={\n",
    "    \"api_key\": openai.api_key,\n",
    "    \"api_base\": openai.api_base,\n",
    "    \"api_type\": openai.api_type,\n",
    "    \"api_version\": openai.api_version,\n",
    "})\n",
    "llm_predictor_chatgpt = LLMPredictor(llm=llm)\n",
    "service_context = ServiceContext.from_defaults(llm_predictor=llm_predictor, chunk_size_limit=1024, embedding_llm=embedding_llm)"
   ]
  },
  {
   "cell_type": "code",
   "execution_count": 47,
   "metadata": {},
   "outputs": [
    {
     "name": "stdout",
     "output_type": "stream",
     "text": [
      "<llama_index.indices.query.response_synthesis.ResponseSynthesizer object at 0x000002487F84C160>\n",
      "current doc id: Toronto\n",
      "INFO:llama_index.indices.common_tree.base:> Building index from nodes: 7 chunks\n",
      "> Building index from nodes: 7 chunks\n",
      "> Building index from nodes: 7 chunks\n",
      "> Building index from nodes: 7 chunks\n"
     ]
    },
    {
     "ename": "InvalidRequestError",
     "evalue": "Must provide an 'engine' or 'deployment_id' parameter to create a <class 'openai.api_resources.completion.Completion'>",
     "output_type": "error",
     "traceback": [
      "\u001b[1;31m---------------------------------------------------------------------------\u001b[0m",
      "\u001b[1;31mInvalidRequestError\u001b[0m                       Traceback (most recent call last)",
      "Cell \u001b[1;32mIn[47], line 2\u001b[0m\n\u001b[0;32m      1\u001b[0m response_synthesizer \u001b[39m=\u001b[39m ResponseSynthesizer\u001b[39m.\u001b[39mfrom_args(response_mode\u001b[39m=\u001b[39m\u001b[39m\"\u001b[39m\u001b[39mtree_summarize\u001b[39m\u001b[39m\"\u001b[39m, use_async\u001b[39m=\u001b[39m\u001b[39mTrue\u001b[39;00m)\n\u001b[1;32m----> 2\u001b[0m doc_summary_index \u001b[39m=\u001b[39m GPTDocumentSummaryIndex\u001b[39m.\u001b[39;49mfrom_documents(\n\u001b[0;32m      3\u001b[0m     city_docs, \n\u001b[0;32m      4\u001b[0m     service_context\u001b[39m=\u001b[39;49mservice_context,\n\u001b[0;32m      5\u001b[0m     response_synthesizer\u001b[39m=\u001b[39;49mresponse_synthesizer\n\u001b[0;32m      6\u001b[0m )\n",
      "File \u001b[1;32md:\\Code\\CognitiveSearchChatGPTDemo\\.venv\\lib\\site-packages\\llama_index\\indices\\base.py:93\u001b[0m, in \u001b[0;36mBaseGPTIndex.from_documents\u001b[1;34m(cls, documents, storage_context, service_context, **kwargs)\u001b[0m\n\u001b[0;32m     89\u001b[0m     docstore\u001b[39m.\u001b[39mset_document_hash(doc\u001b[39m.\u001b[39mget_doc_id(), doc\u001b[39m.\u001b[39mget_doc_hash())\n\u001b[0;32m     91\u001b[0m nodes \u001b[39m=\u001b[39m service_context\u001b[39m.\u001b[39mnode_parser\u001b[39m.\u001b[39mget_nodes_from_documents(documents)\n\u001b[1;32m---> 93\u001b[0m \u001b[39mreturn\u001b[39;00m \u001b[39mcls\u001b[39m(\n\u001b[0;32m     94\u001b[0m     nodes\u001b[39m=\u001b[39mnodes,\n\u001b[0;32m     95\u001b[0m     storage_context\u001b[39m=\u001b[39mstorage_context,\n\u001b[0;32m     96\u001b[0m     service_context\u001b[39m=\u001b[39mservice_context,\n\u001b[0;32m     97\u001b[0m     \u001b[39m*\u001b[39m\u001b[39m*\u001b[39mkwargs,\n\u001b[0;32m     98\u001b[0m )\n",
      "File \u001b[1;32md:\\Code\\CognitiveSearchChatGPTDemo\\.venv\\lib\\site-packages\\llama_index\\indices\\document_summary\\base.py:65\u001b[0m, in \u001b[0;36mGPTDocumentSummaryIndex.__init__\u001b[1;34m(self, nodes, index_struct, service_context, response_synthesizer, summary_query, **kwargs)\u001b[0m\n\u001b[0;32m     61\u001b[0m \u001b[39mself\u001b[39m\u001b[39m.\u001b[39m_response_synthesizer \u001b[39m=\u001b[39m (\n\u001b[0;32m     62\u001b[0m     response_synthesizer \u001b[39mor\u001b[39;00m ResponseSynthesizer\u001b[39m.\u001b[39mfrom_args()\n\u001b[0;32m     63\u001b[0m )\n\u001b[0;32m     64\u001b[0m \u001b[39mself\u001b[39m\u001b[39m.\u001b[39m_summary_query \u001b[39m=\u001b[39m summary_query \u001b[39mor\u001b[39;00m \u001b[39m\"\u001b[39m\u001b[39msummarize:\u001b[39m\u001b[39m\"\u001b[39m\n\u001b[1;32m---> 65\u001b[0m \u001b[39msuper\u001b[39m()\u001b[39m.\u001b[39m\u001b[39m__init__\u001b[39m(\n\u001b[0;32m     66\u001b[0m     nodes\u001b[39m=\u001b[39mnodes,\n\u001b[0;32m     67\u001b[0m     index_struct\u001b[39m=\u001b[39mindex_struct,\n\u001b[0;32m     68\u001b[0m     service_context\u001b[39m=\u001b[39mservice_context,\n\u001b[0;32m     69\u001b[0m     \u001b[39m*\u001b[39m\u001b[39m*\u001b[39mkwargs,\n\u001b[0;32m     70\u001b[0m )\n",
      "File \u001b[1;32md:\\Code\\CognitiveSearchChatGPTDemo\\.venv\\lib\\site-packages\\llama_index\\indices\\base.py:65\u001b[0m, in \u001b[0;36mBaseGPTIndex.__init__\u001b[1;34m(self, nodes, index_struct, storage_context, service_context, **kwargs)\u001b[0m\n\u001b[0;32m     63\u001b[0m \u001b[39mif\u001b[39;00m index_struct \u001b[39mis\u001b[39;00m \u001b[39mNone\u001b[39;00m:\n\u001b[0;32m     64\u001b[0m     \u001b[39massert\u001b[39;00m nodes \u001b[39mis\u001b[39;00m \u001b[39mnot\u001b[39;00m \u001b[39mNone\u001b[39;00m\n\u001b[1;32m---> 65\u001b[0m     index_struct \u001b[39m=\u001b[39m \u001b[39mself\u001b[39;49m\u001b[39m.\u001b[39;49mbuild_index_from_nodes(nodes)\n\u001b[0;32m     66\u001b[0m \u001b[39mself\u001b[39m\u001b[39m.\u001b[39m_index_struct \u001b[39m=\u001b[39m index_struct\n\u001b[0;32m     67\u001b[0m \u001b[39mself\u001b[39m\u001b[39m.\u001b[39m_storage_context\u001b[39m.\u001b[39mindex_store\u001b[39m.\u001b[39madd_index_struct(\u001b[39mself\u001b[39m\u001b[39m.\u001b[39m_index_struct)\n",
      "File \u001b[1;32md:\\Code\\CognitiveSearchChatGPTDemo\\.venv\\lib\\site-packages\\llama_index\\token_counter\\token_counter.py:78\u001b[0m, in \u001b[0;36mllm_token_counter.<locals>.wrap.<locals>.wrapped_llm_predict\u001b[1;34m(_self, *args, **kwargs)\u001b[0m\n\u001b[0;32m     76\u001b[0m \u001b[39mdef\u001b[39;00m \u001b[39mwrapped_llm_predict\u001b[39m(_self: Any, \u001b[39m*\u001b[39margs: Any, \u001b[39m*\u001b[39m\u001b[39m*\u001b[39mkwargs: Any) \u001b[39m-\u001b[39m\u001b[39m>\u001b[39m Any:\n\u001b[0;32m     77\u001b[0m     \u001b[39mwith\u001b[39;00m wrapper_logic(_self):\n\u001b[1;32m---> 78\u001b[0m         f_return_val \u001b[39m=\u001b[39m f(_self, \u001b[39m*\u001b[39margs, \u001b[39m*\u001b[39m\u001b[39m*\u001b[39mkwargs)\n\u001b[0;32m     80\u001b[0m     \u001b[39mreturn\u001b[39;00m f_return_val\n",
      "File \u001b[1;32md:\\Code\\CognitiveSearchChatGPTDemo\\.venv\\lib\\site-packages\\llama_index\\indices\\base.py:153\u001b[0m, in \u001b[0;36mBaseGPTIndex.build_index_from_nodes\u001b[1;34m(self, nodes)\u001b[0m\n\u001b[0;32m    151\u001b[0m \u001b[39m\u001b[39m\u001b[39m\"\"\"Build the index from nodes.\"\"\"\u001b[39;00m\n\u001b[0;32m    152\u001b[0m \u001b[39mself\u001b[39m\u001b[39m.\u001b[39m_docstore\u001b[39m.\u001b[39madd_documents(nodes, allow_update\u001b[39m=\u001b[39m\u001b[39mTrue\u001b[39;00m)\n\u001b[1;32m--> 153\u001b[0m \u001b[39mreturn\u001b[39;00m \u001b[39mself\u001b[39;49m\u001b[39m.\u001b[39;49m_build_index_from_nodes(nodes)\n",
      "File \u001b[1;32md:\\Code\\CognitiveSearchChatGPTDemo\\.venv\\lib\\site-packages\\llama_index\\indices\\document_summary\\base.py:150\u001b[0m, in \u001b[0;36mGPTDocumentSummaryIndex._build_index_from_nodes\u001b[1;34m(self, nodes)\u001b[0m\n\u001b[0;32m    147\u001b[0m \u001b[39m# first get doc_id to nodes_dict, generate a summary for each doc_id,\u001b[39;00m\n\u001b[0;32m    148\u001b[0m \u001b[39m# then build the index struct\u001b[39;00m\n\u001b[0;32m    149\u001b[0m index_struct \u001b[39m=\u001b[39m IndexDocumentSummary()\n\u001b[1;32m--> 150\u001b[0m \u001b[39mself\u001b[39;49m\u001b[39m.\u001b[39;49m_add_nodes_to_index(index_struct, nodes)\n\u001b[0;32m    151\u001b[0m \u001b[39mreturn\u001b[39;00m index_struct\n",
      "File \u001b[1;32md:\\Code\\CognitiveSearchChatGPTDemo\\.venv\\lib\\site-packages\\llama_index\\indices\\document_summary\\base.py:128\u001b[0m, in \u001b[0;36mGPTDocumentSummaryIndex._add_nodes_to_index\u001b[1;34m(self, index_struct, nodes)\u001b[0m\n\u001b[0;32m    126\u001b[0m nodes_with_scores \u001b[39m=\u001b[39m [NodeWithScore(n) \u001b[39mfor\u001b[39;00m n \u001b[39min\u001b[39;00m nodes]\n\u001b[0;32m    127\u001b[0m \u001b[39m# get the summary for each doc_id\u001b[39;00m\n\u001b[1;32m--> 128\u001b[0m summary_response \u001b[39m=\u001b[39m \u001b[39mself\u001b[39;49m\u001b[39m.\u001b[39;49m_response_synthesizer\u001b[39m.\u001b[39;49msynthesize(\n\u001b[0;32m    129\u001b[0m     query_bundle\u001b[39m=\u001b[39;49mQueryBundle(\u001b[39mself\u001b[39;49m\u001b[39m.\u001b[39;49m_summary_query),\n\u001b[0;32m    130\u001b[0m     nodes\u001b[39m=\u001b[39;49mnodes_with_scores,\n\u001b[0;32m    131\u001b[0m )\n\u001b[0;32m    132\u001b[0m summary_response \u001b[39m=\u001b[39m cast(Response, summary_response)\n\u001b[0;32m    133\u001b[0m summary_node_dict[doc_id] \u001b[39m=\u001b[39m Node(\n\u001b[0;32m    134\u001b[0m     summary_response\u001b[39m.\u001b[39mresponse,\n\u001b[0;32m    135\u001b[0m     relationships\u001b[39m=\u001b[39m{DocumentRelationship\u001b[39m.\u001b[39mSOURCE: doc_id},\n\u001b[0;32m    136\u001b[0m )\n",
      "File \u001b[1;32md:\\Code\\CognitiveSearchChatGPTDemo\\.venv\\lib\\site-packages\\llama_index\\indices\\query\\response_synthesis.py:163\u001b[0m, in \u001b[0;36mResponseSynthesizer.synthesize\u001b[1;34m(self, query_bundle, nodes, additional_source_nodes)\u001b[0m\n\u001b[0;32m    161\u001b[0m \u001b[39mif\u001b[39;00m \u001b[39mself\u001b[39m\u001b[39m.\u001b[39m_response_mode \u001b[39m!=\u001b[39m ResponseMode\u001b[39m.\u001b[39mNO_TEXT:\n\u001b[0;32m    162\u001b[0m     \u001b[39massert\u001b[39;00m \u001b[39mself\u001b[39m\u001b[39m.\u001b[39m_response_builder \u001b[39mis\u001b[39;00m \u001b[39mnot\u001b[39;00m \u001b[39mNone\u001b[39;00m\n\u001b[1;32m--> 163\u001b[0m     response_str \u001b[39m=\u001b[39m \u001b[39mself\u001b[39m\u001b[39m.\u001b[39m_response_builder\u001b[39m.\u001b[39mget_response(\n\u001b[0;32m    164\u001b[0m         query_str\u001b[39m=\u001b[39mquery_bundle\u001b[39m.\u001b[39mquery_str,\n\u001b[0;32m    165\u001b[0m         text_chunks\u001b[39m=\u001b[39mtext_chunks,\n\u001b[0;32m    166\u001b[0m         \u001b[39m*\u001b[39m\u001b[39m*\u001b[39m\u001b[39mself\u001b[39m\u001b[39m.\u001b[39m_response_kwargs,\n\u001b[0;32m    167\u001b[0m     )\n\u001b[0;32m    168\u001b[0m \u001b[39melse\u001b[39;00m:\n\u001b[0;32m    169\u001b[0m     response_str \u001b[39m=\u001b[39m \u001b[39mNone\u001b[39;00m\n",
      "File \u001b[1;32md:\\Code\\CognitiveSearchChatGPTDemo\\.venv\\lib\\site-packages\\llama_index\\token_counter\\token_counter.py:78\u001b[0m, in \u001b[0;36mllm_token_counter.<locals>.wrap.<locals>.wrapped_llm_predict\u001b[1;34m(_self, *args, **kwargs)\u001b[0m\n\u001b[0;32m     76\u001b[0m \u001b[39mdef\u001b[39;00m \u001b[39mwrapped_llm_predict\u001b[39m(_self: Any, \u001b[39m*\u001b[39margs: Any, \u001b[39m*\u001b[39m\u001b[39m*\u001b[39mkwargs: Any) \u001b[39m-\u001b[39m\u001b[39m>\u001b[39m Any:\n\u001b[0;32m     77\u001b[0m     \u001b[39mwith\u001b[39;00m wrapper_logic(_self):\n\u001b[1;32m---> 78\u001b[0m         f_return_val \u001b[39m=\u001b[39m f(_self, \u001b[39m*\u001b[39margs, \u001b[39m*\u001b[39m\u001b[39m*\u001b[39mkwargs)\n\u001b[0;32m     80\u001b[0m     \u001b[39mreturn\u001b[39;00m f_return_val\n",
      "File \u001b[1;32md:\\Code\\CognitiveSearchChatGPTDemo\\.venv\\lib\\site-packages\\llama_index\\indices\\response\\response_builder.py:368\u001b[0m, in \u001b[0;36mTreeSummarize.get_response\u001b[1;34m(self, query_str, text_chunks, prev_response, num_children, **response_kwargs)\u001b[0m\n\u001b[0;32m    366\u001b[0m \u001b[39mfor\u001b[39;00m node \u001b[39min\u001b[39;00m nodes:\n\u001b[0;32m    367\u001b[0m     index_graph\u001b[39m.\u001b[39minsert(node)\n\u001b[1;32m--> 368\u001b[0m index_graph \u001b[39m=\u001b[39m index_builder\u001b[39m.\u001b[39;49mbuild_index_from_nodes(\n\u001b[0;32m    369\u001b[0m     index_graph, index_graph\u001b[39m.\u001b[39;49mall_nodes, index_graph\u001b[39m.\u001b[39;49mall_nodes\n\u001b[0;32m    370\u001b[0m )\n\u001b[0;32m    371\u001b[0m root_node_ids \u001b[39m=\u001b[39m index_graph\u001b[39m.\u001b[39mroot_nodes\n\u001b[0;32m    372\u001b[0m root_nodes \u001b[39m=\u001b[39m {\n\u001b[0;32m    373\u001b[0m     index: index_builder\u001b[39m.\u001b[39mdocstore\u001b[39m.\u001b[39mget_node(node_id)\n\u001b[0;32m    374\u001b[0m     \u001b[39mfor\u001b[39;00m index, node_id \u001b[39min\u001b[39;00m root_node_ids\u001b[39m.\u001b[39mitems()\n\u001b[0;32m    375\u001b[0m }\n",
      "File \u001b[1;32md:\\Code\\CognitiveSearchChatGPTDemo\\.venv\\lib\\site-packages\\llama_index\\indices\\common_tree\\base.py:151\u001b[0m, in \u001b[0;36mGPTTreeIndexBuilder.build_index_from_nodes\u001b[1;34m(self, index_graph, cur_node_ids, all_node_ids, level)\u001b[0m\n\u001b[0;32m    144\u001b[0m \u001b[39mif\u001b[39;00m \u001b[39mself\u001b[39m\u001b[39m.\u001b[39m_use_async:\n\u001b[0;32m    145\u001b[0m     tasks \u001b[39m=\u001b[39m [\n\u001b[0;32m    146\u001b[0m         \u001b[39mself\u001b[39m\u001b[39m.\u001b[39m_service_context\u001b[39m.\u001b[39mllm_predictor\u001b[39m.\u001b[39mapredict(\n\u001b[0;32m    147\u001b[0m             \u001b[39mself\u001b[39m\u001b[39m.\u001b[39msummary_prompt, context_str\u001b[39m=\u001b[39mtext_chunk\n\u001b[0;32m    148\u001b[0m         )\n\u001b[0;32m    149\u001b[0m         \u001b[39mfor\u001b[39;00m text_chunk \u001b[39min\u001b[39;00m text_chunks\n\u001b[0;32m    150\u001b[0m     ]\n\u001b[1;32m--> 151\u001b[0m     outputs: List[Tuple[\u001b[39mstr\u001b[39m, \u001b[39mstr\u001b[39m]] \u001b[39m=\u001b[39m run_async_tasks(tasks)\n\u001b[0;32m    152\u001b[0m     summaries \u001b[39m=\u001b[39m [output[\u001b[39m0\u001b[39m] \u001b[39mfor\u001b[39;00m output \u001b[39min\u001b[39;00m outputs]\n\u001b[0;32m    153\u001b[0m \u001b[39melse\u001b[39;00m:\n",
      "File \u001b[1;32md:\\Code\\CognitiveSearchChatGPTDemo\\.venv\\lib\\site-packages\\llama_index\\async_utils.py:12\u001b[0m, in \u001b[0;36mrun_async_tasks\u001b[1;34m(tasks)\u001b[0m\n\u001b[0;32m      9\u001b[0m \u001b[39masync\u001b[39;00m \u001b[39mdef\u001b[39;00m \u001b[39m_gather\u001b[39m() \u001b[39m-\u001b[39m\u001b[39m>\u001b[39m List[Any]:\n\u001b[0;32m     10\u001b[0m     \u001b[39mreturn\u001b[39;00m \u001b[39mawait\u001b[39;00m asyncio\u001b[39m.\u001b[39mgather(\u001b[39m*\u001b[39mtasks)\n\u001b[1;32m---> 12\u001b[0m outputs: List[Any] \u001b[39m=\u001b[39m asyncio\u001b[39m.\u001b[39;49mrun(_gather())\n\u001b[0;32m     13\u001b[0m \u001b[39mreturn\u001b[39;00m outputs\n",
      "File \u001b[1;32md:\\Code\\CognitiveSearchChatGPTDemo\\.venv\\lib\\site-packages\\nest_asyncio.py:35\u001b[0m, in \u001b[0;36m_patch_asyncio.<locals>.run\u001b[1;34m(main, debug)\u001b[0m\n\u001b[0;32m     33\u001b[0m task \u001b[39m=\u001b[39m asyncio\u001b[39m.\u001b[39mensure_future(main)\n\u001b[0;32m     34\u001b[0m \u001b[39mtry\u001b[39;00m:\n\u001b[1;32m---> 35\u001b[0m     \u001b[39mreturn\u001b[39;00m loop\u001b[39m.\u001b[39;49mrun_until_complete(task)\n\u001b[0;32m     36\u001b[0m \u001b[39mfinally\u001b[39;00m:\n\u001b[0;32m     37\u001b[0m     \u001b[39mif\u001b[39;00m \u001b[39mnot\u001b[39;00m task\u001b[39m.\u001b[39mdone():\n",
      "File \u001b[1;32md:\\Code\\CognitiveSearchChatGPTDemo\\.venv\\lib\\site-packages\\nest_asyncio.py:90\u001b[0m, in \u001b[0;36m_patch_loop.<locals>.run_until_complete\u001b[1;34m(self, future)\u001b[0m\n\u001b[0;32m     87\u001b[0m \u001b[39mif\u001b[39;00m \u001b[39mnot\u001b[39;00m f\u001b[39m.\u001b[39mdone():\n\u001b[0;32m     88\u001b[0m     \u001b[39mraise\u001b[39;00m \u001b[39mRuntimeError\u001b[39;00m(\n\u001b[0;32m     89\u001b[0m         \u001b[39m'\u001b[39m\u001b[39mEvent loop stopped before Future completed.\u001b[39m\u001b[39m'\u001b[39m)\n\u001b[1;32m---> 90\u001b[0m \u001b[39mreturn\u001b[39;00m f\u001b[39m.\u001b[39;49mresult()\n",
      "File \u001b[1;32m~\\AppData\\Local\\Programs\\Python\\Python310\\lib\\asyncio\\futures.py:201\u001b[0m, in \u001b[0;36mFuture.result\u001b[1;34m(self)\u001b[0m\n\u001b[0;32m    199\u001b[0m \u001b[39mself\u001b[39m\u001b[39m.\u001b[39m__log_traceback \u001b[39m=\u001b[39m \u001b[39mFalse\u001b[39;00m\n\u001b[0;32m    200\u001b[0m \u001b[39mif\u001b[39;00m \u001b[39mself\u001b[39m\u001b[39m.\u001b[39m_exception \u001b[39mis\u001b[39;00m \u001b[39mnot\u001b[39;00m \u001b[39mNone\u001b[39;00m:\n\u001b[1;32m--> 201\u001b[0m     \u001b[39mraise\u001b[39;00m \u001b[39mself\u001b[39m\u001b[39m.\u001b[39m_exception\u001b[39m.\u001b[39mwith_traceback(\u001b[39mself\u001b[39m\u001b[39m.\u001b[39m_exception_tb)\n\u001b[0;32m    202\u001b[0m \u001b[39mreturn\u001b[39;00m \u001b[39mself\u001b[39m\u001b[39m.\u001b[39m_result\n",
      "File \u001b[1;32m~\\AppData\\Local\\Programs\\Python\\Python310\\lib\\asyncio\\tasks.py:234\u001b[0m, in \u001b[0;36mTask.__step\u001b[1;34m(***failed resolving arguments***)\u001b[0m\n\u001b[0;32m    232\u001b[0m         result \u001b[39m=\u001b[39m coro\u001b[39m.\u001b[39msend(\u001b[39mNone\u001b[39;00m)\n\u001b[0;32m    233\u001b[0m     \u001b[39melse\u001b[39;00m:\n\u001b[1;32m--> 234\u001b[0m         result \u001b[39m=\u001b[39m coro\u001b[39m.\u001b[39;49mthrow(exc)\n\u001b[0;32m    235\u001b[0m \u001b[39mexcept\u001b[39;00m \u001b[39mStopIteration\u001b[39;00m \u001b[39mas\u001b[39;00m exc:\n\u001b[0;32m    236\u001b[0m     \u001b[39mif\u001b[39;00m \u001b[39mself\u001b[39m\u001b[39m.\u001b[39m_must_cancel:\n\u001b[0;32m    237\u001b[0m         \u001b[39m# Task is cancelled right before coro stops.\u001b[39;00m\n",
      "File \u001b[1;32md:\\Code\\CognitiveSearchChatGPTDemo\\.venv\\lib\\site-packages\\llama_index\\async_utils.py:10\u001b[0m, in \u001b[0;36mrun_async_tasks.<locals>._gather\u001b[1;34m()\u001b[0m\n\u001b[0;32m      9\u001b[0m \u001b[39masync\u001b[39;00m \u001b[39mdef\u001b[39;00m \u001b[39m_gather\u001b[39m() \u001b[39m-\u001b[39m\u001b[39m>\u001b[39m List[Any]:\n\u001b[1;32m---> 10\u001b[0m     \u001b[39mreturn\u001b[39;00m \u001b[39mawait\u001b[39;00m asyncio\u001b[39m.\u001b[39mgather(\u001b[39m*\u001b[39mtasks)\n",
      "File \u001b[1;32m~\\AppData\\Local\\Programs\\Python\\Python310\\lib\\asyncio\\tasks.py:304\u001b[0m, in \u001b[0;36mTask.__wakeup\u001b[1;34m(self, future)\u001b[0m\n\u001b[0;32m    302\u001b[0m \u001b[39mdef\u001b[39;00m \u001b[39m__wakeup\u001b[39m(\u001b[39mself\u001b[39m, future):\n\u001b[0;32m    303\u001b[0m     \u001b[39mtry\u001b[39;00m:\n\u001b[1;32m--> 304\u001b[0m         future\u001b[39m.\u001b[39;49mresult()\n\u001b[0;32m    305\u001b[0m     \u001b[39mexcept\u001b[39;00m \u001b[39mBaseException\u001b[39;00m \u001b[39mas\u001b[39;00m exc:\n\u001b[0;32m    306\u001b[0m         \u001b[39m# This may also be a cancellation.\u001b[39;00m\n\u001b[0;32m    307\u001b[0m         \u001b[39mself\u001b[39m\u001b[39m.\u001b[39m__step(exc)\n",
      "File \u001b[1;32m~\\AppData\\Local\\Programs\\Python\\Python310\\lib\\asyncio\\tasks.py:232\u001b[0m, in \u001b[0;36mTask.__step\u001b[1;34m(***failed resolving arguments***)\u001b[0m\n\u001b[0;32m    228\u001b[0m \u001b[39mtry\u001b[39;00m:\n\u001b[0;32m    229\u001b[0m     \u001b[39mif\u001b[39;00m exc \u001b[39mis\u001b[39;00m \u001b[39mNone\u001b[39;00m:\n\u001b[0;32m    230\u001b[0m         \u001b[39m# We use the `send` method directly, because coroutines\u001b[39;00m\n\u001b[0;32m    231\u001b[0m         \u001b[39m# don't have `__iter__` and `__next__` methods.\u001b[39;00m\n\u001b[1;32m--> 232\u001b[0m         result \u001b[39m=\u001b[39m coro\u001b[39m.\u001b[39;49msend(\u001b[39mNone\u001b[39;49;00m)\n\u001b[0;32m    233\u001b[0m     \u001b[39melse\u001b[39;00m:\n\u001b[0;32m    234\u001b[0m         result \u001b[39m=\u001b[39m coro\u001b[39m.\u001b[39mthrow(exc)\n",
      "File \u001b[1;32md:\\Code\\CognitiveSearchChatGPTDemo\\.venv\\lib\\site-packages\\llama_index\\llm_predictor\\base.py:344\u001b[0m, in \u001b[0;36mLLMPredictor.apredict\u001b[1;34m(self, prompt, **prompt_args)\u001b[0m\n\u001b[0;32m    340\u001b[0m event_id \u001b[39m=\u001b[39m \u001b[39mself\u001b[39m\u001b[39m.\u001b[39mcallback_manager\u001b[39m.\u001b[39mon_event_start(\n\u001b[0;32m    341\u001b[0m     CBEventType\u001b[39m.\u001b[39mLLM, payload\u001b[39m=\u001b[39mllm_payload\n\u001b[0;32m    342\u001b[0m )\n\u001b[0;32m    343\u001b[0m formatted_prompt \u001b[39m=\u001b[39m prompt\u001b[39m.\u001b[39mformat(llm\u001b[39m=\u001b[39m\u001b[39mself\u001b[39m\u001b[39m.\u001b[39m_llm, \u001b[39m*\u001b[39m\u001b[39m*\u001b[39mprompt_args)\n\u001b[1;32m--> 344\u001b[0m llm_prediction \u001b[39m=\u001b[39m \u001b[39mawait\u001b[39;00m \u001b[39mself\u001b[39m\u001b[39m.\u001b[39m_apredict(prompt, \u001b[39m*\u001b[39m\u001b[39m*\u001b[39mprompt_args)\n\u001b[0;32m    345\u001b[0m logger\u001b[39m.\u001b[39mdebug(llm_prediction)\n\u001b[0;32m    347\u001b[0m \u001b[39m# We assume that the value of formatted_prompt is exactly the thing\u001b[39;00m\n\u001b[0;32m    348\u001b[0m \u001b[39m# eventually sent to OpenAI, or whatever LLM downstream\u001b[39;00m\n",
      "File \u001b[1;32md:\\Code\\CognitiveSearchChatGPTDemo\\.venv\\lib\\site-packages\\llama_index\\llm_predictor\\base.py:325\u001b[0m, in \u001b[0;36mLLMPredictor._apredict\u001b[1;34m(self, prompt, **prompt_args)\u001b[0m\n\u001b[0;32m    323\u001b[0m full_prompt_args \u001b[39m=\u001b[39m prompt\u001b[39m.\u001b[39mget_full_format_args(prompt_args)\n\u001b[0;32m    324\u001b[0m \u001b[39m# TODO: support retry on throttling\u001b[39;00m\n\u001b[1;32m--> 325\u001b[0m llm_prediction \u001b[39m=\u001b[39m \u001b[39mawait\u001b[39;00m llm_chain\u001b[39m.\u001b[39mapredict(\u001b[39m*\u001b[39m\u001b[39m*\u001b[39mfull_prompt_args)\n\u001b[0;32m    326\u001b[0m \u001b[39mreturn\u001b[39;00m llm_prediction\n",
      "File \u001b[1;32md:\\Code\\CognitiveSearchChatGPTDemo\\.venv\\lib\\site-packages\\langchain\\chains\\llm.py:230\u001b[0m, in \u001b[0;36mLLMChain.apredict\u001b[1;34m(self, callbacks, **kwargs)\u001b[0m\n\u001b[0;32m    215\u001b[0m \u001b[39masync\u001b[39;00m \u001b[39mdef\u001b[39;00m \u001b[39mapredict\u001b[39m(\u001b[39mself\u001b[39m, callbacks: Callbacks \u001b[39m=\u001b[39m \u001b[39mNone\u001b[39;00m, \u001b[39m*\u001b[39m\u001b[39m*\u001b[39mkwargs: Any) \u001b[39m-\u001b[39m\u001b[39m>\u001b[39m \u001b[39mstr\u001b[39m:\n\u001b[0;32m    216\u001b[0m \u001b[39m    \u001b[39m\u001b[39m\"\"\"Format prompt with kwargs and pass to LLM.\u001b[39;00m\n\u001b[0;32m    217\u001b[0m \n\u001b[0;32m    218\u001b[0m \u001b[39m    Args:\u001b[39;00m\n\u001b[1;32m   (...)\u001b[0m\n\u001b[0;32m    228\u001b[0m \u001b[39m            completion = llm.predict(adjective=\"funny\")\u001b[39;00m\n\u001b[0;32m    229\u001b[0m \u001b[39m    \"\"\"\u001b[39;00m\n\u001b[1;32m--> 230\u001b[0m     \u001b[39mreturn\u001b[39;00m (\u001b[39mawait\u001b[39;00m \u001b[39mself\u001b[39m\u001b[39m.\u001b[39macall(kwargs, callbacks\u001b[39m=\u001b[39mcallbacks))[\u001b[39mself\u001b[39m\u001b[39m.\u001b[39moutput_key]\n",
      "File \u001b[1;32md:\\Code\\CognitiveSearchChatGPTDemo\\.venv\\lib\\site-packages\\langchain\\chains\\base.py:178\u001b[0m, in \u001b[0;36mChain.acall\u001b[1;34m(self, inputs, return_only_outputs, callbacks)\u001b[0m\n\u001b[0;32m    176\u001b[0m \u001b[39mexcept\u001b[39;00m (\u001b[39mKeyboardInterrupt\u001b[39;00m, \u001b[39mException\u001b[39;00m) \u001b[39mas\u001b[39;00m e:\n\u001b[0;32m    177\u001b[0m     \u001b[39mawait\u001b[39;00m run_manager\u001b[39m.\u001b[39mon_chain_error(e)\n\u001b[1;32m--> 178\u001b[0m     \u001b[39mraise\u001b[39;00m e\n\u001b[0;32m    179\u001b[0m \u001b[39mawait\u001b[39;00m run_manager\u001b[39m.\u001b[39mon_chain_end(outputs)\n\u001b[0;32m    180\u001b[0m \u001b[39mreturn\u001b[39;00m \u001b[39mself\u001b[39m\u001b[39m.\u001b[39mprep_outputs(inputs, outputs, return_only_outputs)\n",
      "File \u001b[1;32md:\\Code\\CognitiveSearchChatGPTDemo\\.venv\\lib\\site-packages\\langchain\\chains\\base.py:172\u001b[0m, in \u001b[0;36mChain.acall\u001b[1;34m(self, inputs, return_only_outputs, callbacks)\u001b[0m\n\u001b[0;32m    166\u001b[0m run_manager \u001b[39m=\u001b[39m \u001b[39mawait\u001b[39;00m callback_manager\u001b[39m.\u001b[39mon_chain_start(\n\u001b[0;32m    167\u001b[0m     {\u001b[39m\"\u001b[39m\u001b[39mname\u001b[39m\u001b[39m\"\u001b[39m: \u001b[39mself\u001b[39m\u001b[39m.\u001b[39m\u001b[39m__class__\u001b[39m\u001b[39m.\u001b[39m\u001b[39m__name__\u001b[39m},\n\u001b[0;32m    168\u001b[0m     inputs,\n\u001b[0;32m    169\u001b[0m )\n\u001b[0;32m    170\u001b[0m \u001b[39mtry\u001b[39;00m:\n\u001b[0;32m    171\u001b[0m     outputs \u001b[39m=\u001b[39m (\n\u001b[1;32m--> 172\u001b[0m         \u001b[39mawait\u001b[39;00m \u001b[39mself\u001b[39m\u001b[39m.\u001b[39m_acall(inputs, run_manager\u001b[39m=\u001b[39mrun_manager)\n\u001b[0;32m    173\u001b[0m         \u001b[39mif\u001b[39;00m new_arg_supported\n\u001b[0;32m    174\u001b[0m         \u001b[39melse\u001b[39;00m \u001b[39mawait\u001b[39;00m \u001b[39mself\u001b[39m\u001b[39m.\u001b[39m_acall(inputs)\n\u001b[0;32m    175\u001b[0m     )\n\u001b[0;32m    176\u001b[0m \u001b[39mexcept\u001b[39;00m (\u001b[39mKeyboardInterrupt\u001b[39;00m, \u001b[39mException\u001b[39;00m) \u001b[39mas\u001b[39;00m e:\n\u001b[0;32m    177\u001b[0m     \u001b[39mawait\u001b[39;00m run_manager\u001b[39m.\u001b[39mon_chain_error(e)\n",
      "File \u001b[1;32md:\\Code\\CognitiveSearchChatGPTDemo\\.venv\\lib\\site-packages\\langchain\\chains\\llm.py:195\u001b[0m, in \u001b[0;36mLLMChain._acall\u001b[1;34m(self, inputs, run_manager)\u001b[0m\n\u001b[0;32m    190\u001b[0m \u001b[39masync\u001b[39;00m \u001b[39mdef\u001b[39;00m \u001b[39m_acall\u001b[39m(\n\u001b[0;32m    191\u001b[0m     \u001b[39mself\u001b[39m,\n\u001b[0;32m    192\u001b[0m     inputs: Dict[\u001b[39mstr\u001b[39m, Any],\n\u001b[0;32m    193\u001b[0m     run_manager: Optional[AsyncCallbackManagerForChainRun] \u001b[39m=\u001b[39m \u001b[39mNone\u001b[39;00m,\n\u001b[0;32m    194\u001b[0m ) \u001b[39m-\u001b[39m\u001b[39m>\u001b[39m Dict[\u001b[39mstr\u001b[39m, \u001b[39mstr\u001b[39m]:\n\u001b[1;32m--> 195\u001b[0m     response \u001b[39m=\u001b[39m \u001b[39mawait\u001b[39;00m \u001b[39mself\u001b[39m\u001b[39m.\u001b[39magenerate([inputs], run_manager\u001b[39m=\u001b[39mrun_manager)\n\u001b[0;32m    196\u001b[0m     \u001b[39mreturn\u001b[39;00m \u001b[39mself\u001b[39m\u001b[39m.\u001b[39mcreate_outputs(response)[\u001b[39m0\u001b[39m]\n",
      "File \u001b[1;32md:\\Code\\CognitiveSearchChatGPTDemo\\.venv\\lib\\site-packages\\langchain\\chains\\llm.py:90\u001b[0m, in \u001b[0;36mLLMChain.agenerate\u001b[1;34m(self, input_list, run_manager)\u001b[0m\n\u001b[0;32m     88\u001b[0m \u001b[39m\u001b[39m\u001b[39m\"\"\"Generate LLM result from inputs.\"\"\"\u001b[39;00m\n\u001b[0;32m     89\u001b[0m prompts, stop \u001b[39m=\u001b[39m \u001b[39mawait\u001b[39;00m \u001b[39mself\u001b[39m\u001b[39m.\u001b[39maprep_prompts(input_list)\n\u001b[1;32m---> 90\u001b[0m \u001b[39mreturn\u001b[39;00m \u001b[39mawait\u001b[39;00m \u001b[39mself\u001b[39m\u001b[39m.\u001b[39mllm\u001b[39m.\u001b[39magenerate_prompt(\n\u001b[0;32m     91\u001b[0m     prompts, stop, callbacks\u001b[39m=\u001b[39mrun_manager\u001b[39m.\u001b[39mget_child() \u001b[39mif\u001b[39;00m run_manager \u001b[39melse\u001b[39;00m \u001b[39mNone\u001b[39;00m\n\u001b[0;32m     92\u001b[0m )\n",
      "File \u001b[1;32md:\\Code\\CognitiveSearchChatGPTDemo\\.venv\\lib\\site-packages\\langchain\\llms\\base.py:136\u001b[0m, in \u001b[0;36mBaseLLM.agenerate_prompt\u001b[1;34m(self, prompts, stop, callbacks)\u001b[0m\n\u001b[0;32m    129\u001b[0m \u001b[39masync\u001b[39;00m \u001b[39mdef\u001b[39;00m \u001b[39magenerate_prompt\u001b[39m(\n\u001b[0;32m    130\u001b[0m     \u001b[39mself\u001b[39m,\n\u001b[0;32m    131\u001b[0m     prompts: List[PromptValue],\n\u001b[0;32m    132\u001b[0m     stop: Optional[List[\u001b[39mstr\u001b[39m]] \u001b[39m=\u001b[39m \u001b[39mNone\u001b[39;00m,\n\u001b[0;32m    133\u001b[0m     callbacks: Callbacks \u001b[39m=\u001b[39m \u001b[39mNone\u001b[39;00m,\n\u001b[0;32m    134\u001b[0m ) \u001b[39m-\u001b[39m\u001b[39m>\u001b[39m LLMResult:\n\u001b[0;32m    135\u001b[0m     prompt_strings \u001b[39m=\u001b[39m [p\u001b[39m.\u001b[39mto_string() \u001b[39mfor\u001b[39;00m p \u001b[39min\u001b[39;00m prompts]\n\u001b[1;32m--> 136\u001b[0m     \u001b[39mreturn\u001b[39;00m \u001b[39mawait\u001b[39;00m \u001b[39mself\u001b[39m\u001b[39m.\u001b[39magenerate(prompt_strings, stop\u001b[39m=\u001b[39mstop, callbacks\u001b[39m=\u001b[39mcallbacks)\n",
      "File \u001b[1;32md:\\Code\\CognitiveSearchChatGPTDemo\\.venv\\lib\\site-packages\\langchain\\llms\\base.py:240\u001b[0m, in \u001b[0;36mBaseLLM.agenerate\u001b[1;34m(self, prompts, stop, callbacks)\u001b[0m\n\u001b[0;32m    238\u001b[0m \u001b[39mexcept\u001b[39;00m (\u001b[39mKeyboardInterrupt\u001b[39;00m, \u001b[39mException\u001b[39;00m) \u001b[39mas\u001b[39;00m e:\n\u001b[0;32m    239\u001b[0m     \u001b[39mawait\u001b[39;00m run_manager\u001b[39m.\u001b[39mon_llm_error(e, verbose\u001b[39m=\u001b[39m\u001b[39mself\u001b[39m\u001b[39m.\u001b[39mverbose)\n\u001b[1;32m--> 240\u001b[0m     \u001b[39mraise\u001b[39;00m e\n\u001b[0;32m    241\u001b[0m \u001b[39mawait\u001b[39;00m run_manager\u001b[39m.\u001b[39mon_llm_end(output, verbose\u001b[39m=\u001b[39m\u001b[39mself\u001b[39m\u001b[39m.\u001b[39mverbose)\n\u001b[0;32m    242\u001b[0m \u001b[39mreturn\u001b[39;00m output\n",
      "File \u001b[1;32md:\\Code\\CognitiveSearchChatGPTDemo\\.venv\\lib\\site-packages\\langchain\\llms\\base.py:234\u001b[0m, in \u001b[0;36mBaseLLM.agenerate\u001b[1;34m(self, prompts, stop, callbacks)\u001b[0m\n\u001b[0;32m    229\u001b[0m run_manager \u001b[39m=\u001b[39m \u001b[39mawait\u001b[39;00m callback_manager\u001b[39m.\u001b[39mon_llm_start(\n\u001b[0;32m    230\u001b[0m     {\u001b[39m\"\u001b[39m\u001b[39mname\u001b[39m\u001b[39m\"\u001b[39m: \u001b[39mself\u001b[39m\u001b[39m.\u001b[39m\u001b[39m__class__\u001b[39m\u001b[39m.\u001b[39m\u001b[39m__name__\u001b[39m}, prompts\n\u001b[0;32m    231\u001b[0m )\n\u001b[0;32m    232\u001b[0m \u001b[39mtry\u001b[39;00m:\n\u001b[0;32m    233\u001b[0m     output \u001b[39m=\u001b[39m (\n\u001b[1;32m--> 234\u001b[0m         \u001b[39mawait\u001b[39;00m \u001b[39mself\u001b[39m\u001b[39m.\u001b[39m_agenerate(prompts, stop\u001b[39m=\u001b[39mstop, run_manager\u001b[39m=\u001b[39mrun_manager)\n\u001b[0;32m    235\u001b[0m         \u001b[39mif\u001b[39;00m new_arg_supported\n\u001b[0;32m    236\u001b[0m         \u001b[39melse\u001b[39;00m \u001b[39mawait\u001b[39;00m \u001b[39mself\u001b[39m\u001b[39m.\u001b[39m_agenerate(prompts, stop\u001b[39m=\u001b[39mstop)\n\u001b[0;32m    237\u001b[0m     )\n\u001b[0;32m    238\u001b[0m \u001b[39mexcept\u001b[39;00m (\u001b[39mKeyboardInterrupt\u001b[39;00m, \u001b[39mException\u001b[39;00m) \u001b[39mas\u001b[39;00m e:\n\u001b[0;32m    239\u001b[0m     \u001b[39mawait\u001b[39;00m run_manager\u001b[39m.\u001b[39mon_llm_error(e, verbose\u001b[39m=\u001b[39m\u001b[39mself\u001b[39m\u001b[39m.\u001b[39mverbose)\n",
      "File \u001b[1;32md:\\Code\\CognitiveSearchChatGPTDemo\\.venv\\lib\\site-packages\\langchain\\llms\\openai.py:345\u001b[0m, in \u001b[0;36mBaseOpenAI._agenerate\u001b[1;34m(self, prompts, stop, run_manager)\u001b[0m\n\u001b[0;32m    343\u001b[0m     choices\u001b[39m.\u001b[39mextend(response[\u001b[39m\"\u001b[39m\u001b[39mchoices\u001b[39m\u001b[39m\"\u001b[39m])\n\u001b[0;32m    344\u001b[0m \u001b[39melse\u001b[39;00m:\n\u001b[1;32m--> 345\u001b[0m     response \u001b[39m=\u001b[39m \u001b[39mawait\u001b[39;00m acompletion_with_retry(\u001b[39mself\u001b[39m, prompt\u001b[39m=\u001b[39m_prompts, \u001b[39m*\u001b[39m\u001b[39m*\u001b[39mparams)\n\u001b[0;32m    346\u001b[0m     choices\u001b[39m.\u001b[39mextend(response[\u001b[39m\"\u001b[39m\u001b[39mchoices\u001b[39m\u001b[39m\"\u001b[39m])\n\u001b[0;32m    347\u001b[0m \u001b[39mif\u001b[39;00m \u001b[39mnot\u001b[39;00m \u001b[39mself\u001b[39m\u001b[39m.\u001b[39mstreaming:\n\u001b[0;32m    348\u001b[0m     \u001b[39m# Can't update token usage if streaming\u001b[39;00m\n",
      "File \u001b[1;32md:\\Code\\CognitiveSearchChatGPTDemo\\.venv\\lib\\site-packages\\langchain\\llms\\openai.py:120\u001b[0m, in \u001b[0;36macompletion_with_retry\u001b[1;34m(llm, **kwargs)\u001b[0m\n\u001b[0;32m    115\u001b[0m \u001b[39m@retry_decorator\u001b[39m\n\u001b[0;32m    116\u001b[0m \u001b[39masync\u001b[39;00m \u001b[39mdef\u001b[39;00m \u001b[39m_completion_with_retry\u001b[39m(\u001b[39m*\u001b[39m\u001b[39m*\u001b[39mkwargs: Any) \u001b[39m-\u001b[39m\u001b[39m>\u001b[39m Any:\n\u001b[0;32m    117\u001b[0m     \u001b[39m# Use OpenAI's async api https://github.com/openai/openai-python#async-api\u001b[39;00m\n\u001b[0;32m    118\u001b[0m     \u001b[39mreturn\u001b[39;00m \u001b[39mawait\u001b[39;00m llm\u001b[39m.\u001b[39mclient\u001b[39m.\u001b[39macreate(\u001b[39m*\u001b[39m\u001b[39m*\u001b[39mkwargs)\n\u001b[1;32m--> 120\u001b[0m \u001b[39mreturn\u001b[39;00m \u001b[39mawait\u001b[39;00m _completion_with_retry(\u001b[39m*\u001b[39m\u001b[39m*\u001b[39mkwargs)\n",
      "File \u001b[1;32md:\\Code\\CognitiveSearchChatGPTDemo\\.venv\\lib\\site-packages\\tenacity\\_asyncio.py:88\u001b[0m, in \u001b[0;36mAsyncRetrying.wraps.<locals>.async_wrapped\u001b[1;34m(*args, **kwargs)\u001b[0m\n\u001b[0;32m     86\u001b[0m \u001b[39m@functools\u001b[39m\u001b[39m.\u001b[39mwraps(fn)\n\u001b[0;32m     87\u001b[0m \u001b[39masync\u001b[39;00m \u001b[39mdef\u001b[39;00m \u001b[39masync_wrapped\u001b[39m(\u001b[39m*\u001b[39margs: t\u001b[39m.\u001b[39mAny, \u001b[39m*\u001b[39m\u001b[39m*\u001b[39mkwargs: t\u001b[39m.\u001b[39mAny) \u001b[39m-\u001b[39m\u001b[39m>\u001b[39m t\u001b[39m.\u001b[39mAny:\n\u001b[1;32m---> 88\u001b[0m     \u001b[39mreturn\u001b[39;00m \u001b[39mawait\u001b[39;00m fn(\u001b[39m*\u001b[39margs, \u001b[39m*\u001b[39m\u001b[39m*\u001b[39mkwargs)\n",
      "File \u001b[1;32md:\\Code\\CognitiveSearchChatGPTDemo\\.venv\\lib\\site-packages\\tenacity\\_asyncio.py:47\u001b[0m, in \u001b[0;36mAsyncRetrying.__call__\u001b[1;34m(self, fn, *args, **kwargs)\u001b[0m\n\u001b[0;32m     45\u001b[0m retry_state \u001b[39m=\u001b[39m RetryCallState(retry_object\u001b[39m=\u001b[39m\u001b[39mself\u001b[39m, fn\u001b[39m=\u001b[39mfn, args\u001b[39m=\u001b[39margs, kwargs\u001b[39m=\u001b[39mkwargs)\n\u001b[0;32m     46\u001b[0m \u001b[39mwhile\u001b[39;00m \u001b[39mTrue\u001b[39;00m:\n\u001b[1;32m---> 47\u001b[0m     do \u001b[39m=\u001b[39m \u001b[39mself\u001b[39;49m\u001b[39m.\u001b[39;49miter(retry_state\u001b[39m=\u001b[39;49mretry_state)\n\u001b[0;32m     48\u001b[0m     \u001b[39mif\u001b[39;00m \u001b[39misinstance\u001b[39m(do, DoAttempt):\n\u001b[0;32m     49\u001b[0m         \u001b[39mtry\u001b[39;00m:\n",
      "File \u001b[1;32md:\\Code\\CognitiveSearchChatGPTDemo\\.venv\\lib\\site-packages\\tenacity\\__init__.py:314\u001b[0m, in \u001b[0;36mBaseRetrying.iter\u001b[1;34m(self, retry_state)\u001b[0m\n\u001b[0;32m    312\u001b[0m is_explicit_retry \u001b[39m=\u001b[39m fut\u001b[39m.\u001b[39mfailed \u001b[39mand\u001b[39;00m \u001b[39misinstance\u001b[39m(fut\u001b[39m.\u001b[39mexception(), TryAgain)\n\u001b[0;32m    313\u001b[0m \u001b[39mif\u001b[39;00m \u001b[39mnot\u001b[39;00m (is_explicit_retry \u001b[39mor\u001b[39;00m \u001b[39mself\u001b[39m\u001b[39m.\u001b[39mretry(retry_state)):\n\u001b[1;32m--> 314\u001b[0m     \u001b[39mreturn\u001b[39;00m fut\u001b[39m.\u001b[39;49mresult()\n\u001b[0;32m    316\u001b[0m \u001b[39mif\u001b[39;00m \u001b[39mself\u001b[39m\u001b[39m.\u001b[39mafter \u001b[39mis\u001b[39;00m \u001b[39mnot\u001b[39;00m \u001b[39mNone\u001b[39;00m:\n\u001b[0;32m    317\u001b[0m     \u001b[39mself\u001b[39m\u001b[39m.\u001b[39mafter(retry_state)\n",
      "File \u001b[1;32m~\\AppData\\Local\\Programs\\Python\\Python310\\lib\\concurrent\\futures\\_base.py:451\u001b[0m, in \u001b[0;36mFuture.result\u001b[1;34m(self, timeout)\u001b[0m\n\u001b[0;32m    449\u001b[0m     \u001b[39mraise\u001b[39;00m CancelledError()\n\u001b[0;32m    450\u001b[0m \u001b[39melif\u001b[39;00m \u001b[39mself\u001b[39m\u001b[39m.\u001b[39m_state \u001b[39m==\u001b[39m FINISHED:\n\u001b[1;32m--> 451\u001b[0m     \u001b[39mreturn\u001b[39;00m \u001b[39mself\u001b[39;49m\u001b[39m.\u001b[39;49m__get_result()\n\u001b[0;32m    453\u001b[0m \u001b[39mself\u001b[39m\u001b[39m.\u001b[39m_condition\u001b[39m.\u001b[39mwait(timeout)\n\u001b[0;32m    455\u001b[0m \u001b[39mif\u001b[39;00m \u001b[39mself\u001b[39m\u001b[39m.\u001b[39m_state \u001b[39min\u001b[39;00m [CANCELLED, CANCELLED_AND_NOTIFIED]:\n",
      "File \u001b[1;32m~\\AppData\\Local\\Programs\\Python\\Python310\\lib\\concurrent\\futures\\_base.py:403\u001b[0m, in \u001b[0;36mFuture.__get_result\u001b[1;34m(self)\u001b[0m\n\u001b[0;32m    401\u001b[0m \u001b[39mif\u001b[39;00m \u001b[39mself\u001b[39m\u001b[39m.\u001b[39m_exception:\n\u001b[0;32m    402\u001b[0m     \u001b[39mtry\u001b[39;00m:\n\u001b[1;32m--> 403\u001b[0m         \u001b[39mraise\u001b[39;00m \u001b[39mself\u001b[39m\u001b[39m.\u001b[39m_exception\n\u001b[0;32m    404\u001b[0m     \u001b[39mfinally\u001b[39;00m:\n\u001b[0;32m    405\u001b[0m         \u001b[39m# Break a reference cycle with the exception in self._exception\u001b[39;00m\n\u001b[0;32m    406\u001b[0m         \u001b[39mself\u001b[39m \u001b[39m=\u001b[39m \u001b[39mNone\u001b[39;00m\n",
      "File \u001b[1;32md:\\Code\\CognitiveSearchChatGPTDemo\\.venv\\lib\\site-packages\\tenacity\\_asyncio.py:50\u001b[0m, in \u001b[0;36mAsyncRetrying.__call__\u001b[1;34m(self, fn, *args, **kwargs)\u001b[0m\n\u001b[0;32m     48\u001b[0m \u001b[39mif\u001b[39;00m \u001b[39misinstance\u001b[39m(do, DoAttempt):\n\u001b[0;32m     49\u001b[0m     \u001b[39mtry\u001b[39;00m:\n\u001b[1;32m---> 50\u001b[0m         result \u001b[39m=\u001b[39m \u001b[39mawait\u001b[39;00m fn(\u001b[39m*\u001b[39margs, \u001b[39m*\u001b[39m\u001b[39m*\u001b[39mkwargs)\n\u001b[0;32m     51\u001b[0m     \u001b[39mexcept\u001b[39;00m \u001b[39mBaseException\u001b[39;00m:  \u001b[39m# noqa: B902\u001b[39;00m\n\u001b[0;32m     52\u001b[0m         retry_state\u001b[39m.\u001b[39mset_exception(sys\u001b[39m.\u001b[39mexc_info())  \u001b[39m# type: ignore[arg-type]\u001b[39;00m\n",
      "File \u001b[1;32md:\\Code\\CognitiveSearchChatGPTDemo\\.venv\\lib\\site-packages\\langchain\\llms\\openai.py:118\u001b[0m, in \u001b[0;36macompletion_with_retry.<locals>._completion_with_retry\u001b[1;34m(**kwargs)\u001b[0m\n\u001b[0;32m    115\u001b[0m \u001b[39m@retry_decorator\u001b[39m\n\u001b[0;32m    116\u001b[0m \u001b[39masync\u001b[39;00m \u001b[39mdef\u001b[39;00m \u001b[39m_completion_with_retry\u001b[39m(\u001b[39m*\u001b[39m\u001b[39m*\u001b[39mkwargs: Any) \u001b[39m-\u001b[39m\u001b[39m>\u001b[39m Any:\n\u001b[0;32m    117\u001b[0m     \u001b[39m# Use OpenAI's async api https://github.com/openai/openai-python#async-api\u001b[39;00m\n\u001b[1;32m--> 118\u001b[0m     \u001b[39mreturn\u001b[39;00m \u001b[39mawait\u001b[39;00m llm\u001b[39m.\u001b[39mclient\u001b[39m.\u001b[39macreate(\u001b[39m*\u001b[39m\u001b[39m*\u001b[39mkwargs)\n",
      "File \u001b[1;32md:\\Code\\CognitiveSearchChatGPTDemo\\.venv\\lib\\site-packages\\openai\\api_resources\\completion.py:45\u001b[0m, in \u001b[0;36mCompletion.acreate\u001b[1;34m(cls, *args, **kwargs)\u001b[0m\n\u001b[0;32m     43\u001b[0m \u001b[39mwhile\u001b[39;00m \u001b[39mTrue\u001b[39;00m:\n\u001b[0;32m     44\u001b[0m     \u001b[39mtry\u001b[39;00m:\n\u001b[1;32m---> 45\u001b[0m         \u001b[39mreturn\u001b[39;00m \u001b[39mawait\u001b[39;00m \u001b[39msuper\u001b[39m()\u001b[39m.\u001b[39macreate(\u001b[39m*\u001b[39margs, \u001b[39m*\u001b[39m\u001b[39m*\u001b[39mkwargs)\n\u001b[0;32m     46\u001b[0m     \u001b[39mexcept\u001b[39;00m TryAgain \u001b[39mas\u001b[39;00m e:\n\u001b[0;32m     47\u001b[0m         \u001b[39mif\u001b[39;00m timeout \u001b[39mis\u001b[39;00m \u001b[39mnot\u001b[39;00m \u001b[39mNone\u001b[39;00m \u001b[39mand\u001b[39;00m time\u001b[39m.\u001b[39mtime() \u001b[39m>\u001b[39m start \u001b[39m+\u001b[39m timeout:\n",
      "File \u001b[1;32md:\\Code\\CognitiveSearchChatGPTDemo\\.venv\\lib\\site-packages\\openai\\api_resources\\abstract\\engine_api_resource.py:214\u001b[0m, in \u001b[0;36mEngineAPIResource.acreate\u001b[1;34m(cls, api_key, api_base, api_type, request_id, api_version, organization, **params)\u001b[0m\n\u001b[0;32m    192\u001b[0m \u001b[39m@classmethod\u001b[39m\n\u001b[0;32m    193\u001b[0m \u001b[39masync\u001b[39;00m \u001b[39mdef\u001b[39;00m \u001b[39macreate\u001b[39m(\n\u001b[0;32m    194\u001b[0m     \u001b[39mcls\u001b[39m,\n\u001b[1;32m   (...)\u001b[0m\n\u001b[0;32m    201\u001b[0m     \u001b[39m*\u001b[39m\u001b[39m*\u001b[39mparams,\n\u001b[0;32m    202\u001b[0m ):\n\u001b[0;32m    203\u001b[0m     (\n\u001b[0;32m    204\u001b[0m         deployment_id,\n\u001b[0;32m    205\u001b[0m         engine,\n\u001b[0;32m    206\u001b[0m         timeout,\n\u001b[0;32m    207\u001b[0m         stream,\n\u001b[0;32m    208\u001b[0m         headers,\n\u001b[0;32m    209\u001b[0m         request_timeout,\n\u001b[0;32m    210\u001b[0m         typed_api_type,\n\u001b[0;32m    211\u001b[0m         requestor,\n\u001b[0;32m    212\u001b[0m         url,\n\u001b[0;32m    213\u001b[0m         params,\n\u001b[1;32m--> 214\u001b[0m     ) \u001b[39m=\u001b[39m \u001b[39mcls\u001b[39m\u001b[39m.\u001b[39m__prepare_create_request(\n\u001b[0;32m    215\u001b[0m         api_key, api_base, api_type, api_version, organization, \u001b[39m*\u001b[39m\u001b[39m*\u001b[39mparams\n\u001b[0;32m    216\u001b[0m     )\n\u001b[0;32m    217\u001b[0m     response, _, api_key \u001b[39m=\u001b[39m \u001b[39mawait\u001b[39;00m requestor\u001b[39m.\u001b[39marequest(\n\u001b[0;32m    218\u001b[0m         \u001b[39m\"\u001b[39m\u001b[39mpost\u001b[39m\u001b[39m\"\u001b[39m,\n\u001b[0;32m    219\u001b[0m         url,\n\u001b[1;32m   (...)\u001b[0m\n\u001b[0;32m    224\u001b[0m         request_timeout\u001b[39m=\u001b[39mrequest_timeout,\n\u001b[0;32m    225\u001b[0m     )\n\u001b[0;32m    227\u001b[0m     \u001b[39mif\u001b[39;00m stream:\n\u001b[0;32m    228\u001b[0m         \u001b[39m# must be an iterator\u001b[39;00m\n",
      "File \u001b[1;32md:\\Code\\CognitiveSearchChatGPTDemo\\.venv\\lib\\site-packages\\openai\\api_resources\\abstract\\engine_api_resource.py:83\u001b[0m, in \u001b[0;36mEngineAPIResource.__prepare_create_request\u001b[1;34m(cls, api_key, api_base, api_type, api_version, organization, **params)\u001b[0m\n\u001b[0;32m     81\u001b[0m \u001b[39mif\u001b[39;00m typed_api_type \u001b[39min\u001b[39;00m (util\u001b[39m.\u001b[39mApiType\u001b[39m.\u001b[39mAZURE, util\u001b[39m.\u001b[39mApiType\u001b[39m.\u001b[39mAZURE_AD):\n\u001b[0;32m     82\u001b[0m     \u001b[39mif\u001b[39;00m deployment_id \u001b[39mis\u001b[39;00m \u001b[39mNone\u001b[39;00m \u001b[39mand\u001b[39;00m engine \u001b[39mis\u001b[39;00m \u001b[39mNone\u001b[39;00m:\n\u001b[1;32m---> 83\u001b[0m         \u001b[39mraise\u001b[39;00m error\u001b[39m.\u001b[39mInvalidRequestError(\n\u001b[0;32m     84\u001b[0m             \u001b[39m\"\u001b[39m\u001b[39mMust provide an \u001b[39m\u001b[39m'\u001b[39m\u001b[39mengine\u001b[39m\u001b[39m'\u001b[39m\u001b[39m or \u001b[39m\u001b[39m'\u001b[39m\u001b[39mdeployment_id\u001b[39m\u001b[39m'\u001b[39m\u001b[39m parameter to create a \u001b[39m\u001b[39m%s\u001b[39;00m\u001b[39m\"\u001b[39m\n\u001b[0;32m     85\u001b[0m             \u001b[39m%\u001b[39m \u001b[39mcls\u001b[39m,\n\u001b[0;32m     86\u001b[0m             \u001b[39m\"\u001b[39m\u001b[39mengine\u001b[39m\u001b[39m\"\u001b[39m,\n\u001b[0;32m     87\u001b[0m         )\n\u001b[0;32m     88\u001b[0m \u001b[39melse\u001b[39;00m:\n\u001b[0;32m     89\u001b[0m     \u001b[39mif\u001b[39;00m model \u001b[39mis\u001b[39;00m \u001b[39mNone\u001b[39;00m \u001b[39mand\u001b[39;00m engine \u001b[39mis\u001b[39;00m \u001b[39mNone\u001b[39;00m:\n",
      "\u001b[1;31mInvalidRequestError\u001b[0m: Must provide an 'engine' or 'deployment_id' parameter to create a <class 'openai.api_resources.completion.Completion'>"
     ]
    }
   ],
   "source": [
    "response_synthesizer = ResponseSynthesizer.from_args(response_mode=\"tree_summarize\", use_async=True)\n",
    "doc_summary_index = GPTDocumentSummaryIndex.from_documents(\n",
    "    city_docs, \n",
    "    service_context=service_context,\n",
    "    response_synthesizer=response_synthesizer\n",
    ")"
   ]
  },
  {
   "cell_type": "code",
   "execution_count": 37,
   "metadata": {},
   "outputs": [
    {
     "name": "stdout",
     "output_type": "stream",
     "text": [
      "example.html\n"
     ]
    },
    {
     "data": {
      "text/html": [
       "\n",
       "        <iframe\n",
       "            width=\"100%\"\n",
       "            height=\"600px\"\n",
       "            src=\"example.html\"\n",
       "            frameborder=\"0\"\n",
       "            allowfullscreen\n",
       "            \n",
       "        ></iframe>\n",
       "        "
      ],
      "text/plain": [
       "<IPython.lib.display.IFrame at 0x2487e7bf7f0>"
      ]
     },
     "execution_count": 37,
     "metadata": {},
     "output_type": "execute_result"
    }
   ],
   "source": [
    "from pyvis.network import Network\n",
    "\n",
    "g = new_index.get_networkx_graph()\n",
    "net = Network(notebook=True, cdn_resources=\"in_line\", directed=True)\n",
    "net.from_nx(g)\n",
    "net.show(\"example.html\")"
   ]
  }
 ],
 "metadata": {
  "kernelspec": {
   "display_name": ".venv",
   "language": "python",
   "name": "python3"
  },
  "language_info": {
   "codemirror_mode": {
    "name": "ipython",
    "version": 3
   },
   "file_extension": ".py",
   "mimetype": "text/x-python",
   "name": "python",
   "nbconvert_exporter": "python",
   "pygments_lexer": "ipython3",
   "version": "3.10.5"
  },
  "orig_nbformat": 4
 },
 "nbformat": 4,
 "nbformat_minor": 2
}
